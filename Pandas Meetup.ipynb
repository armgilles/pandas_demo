{
 "cells": [
  {
   "cell_type": "markdown",
   "metadata": {},
   "source": [
    "# Pandas Meetup"
   ]
  },
  {
   "cell_type": "code",
   "execution_count": 4,
   "metadata": {
    "collapsed": true
   },
   "outputs": [],
   "source": [
    "import requests"
   ]
  },
  {
   "cell_type": "code",
   "execution_count": 5,
   "metadata": {
    "collapsed": true
   },
   "outputs": [],
   "source": [
    "%matplotlib inline\n",
    "import pandas as pd"
   ]
  },
  {
   "cell_type": "code",
   "execution_count": 6,
   "metadata": {
    "collapsed": true
   },
   "outputs": [],
   "source": [
    "import seaborn as sns\n",
    "sns.set_context('talk')"
   ]
  },
  {
   "cell_type": "markdown",
   "metadata": {},
   "source": [
    "## Pandas"
   ]
  },
  {
   "cell_type": "markdown",
   "metadata": {},
   "source": [
    "**{Pan}el {Da}ta Analysis**\n",
    "\n",
    "* Python & Numpy\n",
    "* Performant (cython)\n",
    "* IT Quant / Orienté Finance"
   ]
  },
  {
   "cell_type": "markdown",
   "metadata": {},
   "source": [
    "* Fonctionnalités\n",
    "\n",
    "  * données en 1D, 2D et 3D\n",
    "  * lecture/écriture sur CSV, Excel, base de données, hdf5, json, ...\n",
    "  * group-by, merge, join\n",
    "  * séries temporelles & valeurs manquantes"
   ]
  },
  {
   "cell_type": "markdown",
   "metadata": {},
   "source": [
    "* `DataFame`\n",
    "  * tableau 2D : matrice, table SQL, fichier CSV, feuille Excel\n",
    "  * un type de données par colonne : entier, double, chaîne de caractères, date, ..."
   ]
  },
  {
   "cell_type": "markdown",
   "metadata": {},
   "source": [
    "## Contraceptive Methods\n",
    "\n",
    "**Data Set Information**:\n",
    "\n",
    "   > This dataset is a subset of the 1987 National Indonesia Contraceptive Prevalence Survey. The samples are married women who were either not pregnant or do not know if they were at the time of interview. The problem is to predict the current contraceptive method choice (no use, long-term methods, or short-term methods) of a woman based on her demographic and socio-economic characteristics."
   ]
  },
  {
   "cell_type": "markdown",
   "metadata": {},
   "source": [
    "**Idées**:\n",
    "\n",
    "* describe, age moyen femme, age moyen femme par méthode de contraception (groupby)\n",
    "* regarder les corrélations entre data\n",
    "* regression logistique sklearn pour prédire la méthode de contraception ?\n",
    "* mieux normaliser les data\n",
    "* refaire une reg. log & comparer\n",
    "* nuage de points ?"
   ]
  },
  {
   "cell_type": "code",
   "execution_count": 1,
   "metadata": {
    "collapsed": true
   },
   "outputs": [],
   "source": [
    "url = \"http://archive.ics.uci.edu/ml/machine-learning-databases/cmc/cmc.data\""
   ]
  },
  {
   "cell_type": "code",
   "execution_count": 2,
   "metadata": {
    "collapsed": true
   },
   "outputs": [],
   "source": [
    "cmc_names = ['age', 'education', 'husband_education', 'children', 'religion', 'working',\n",
    "             'husband_occupation', 'living_index', 'media', 'method']"
   ]
  },
  {
   "cell_type": "markdown",
   "metadata": {},
   "source": [
    "On peut lire un fichier CSV depuis un fichier **mais aussi depuis une URL**"
   ]
  },
  {
   "cell_type": "code",
   "execution_count": 7,
   "metadata": {
    "collapsed": false
   },
   "outputs": [],
   "source": [
    "df = pd.read_csv(url, names=cmc_names, header=None)"
   ]
  },
  {
   "cell_type": "markdown",
   "metadata": {},
   "source": [
    "Cinq premières lignes du fichier."
   ]
  },
  {
   "cell_type": "code",
   "execution_count": 8,
   "metadata": {
    "collapsed": false
   },
   "outputs": [
    {
     "data": {
      "text/html": [
       "<div>\n",
       "<table border=\"1\" class=\"dataframe\">\n",
       "  <thead>\n",
       "    <tr style=\"text-align: right;\">\n",
       "      <th></th>\n",
       "      <th>age</th>\n",
       "      <th>education</th>\n",
       "      <th>husband_education</th>\n",
       "      <th>children</th>\n",
       "      <th>religion</th>\n",
       "      <th>working</th>\n",
       "      <th>husband_occupation</th>\n",
       "      <th>living_index</th>\n",
       "      <th>media</th>\n",
       "      <th>method</th>\n",
       "    </tr>\n",
       "  </thead>\n",
       "  <tbody>\n",
       "    <tr>\n",
       "      <th>0</th>\n",
       "      <td>24</td>\n",
       "      <td>2</td>\n",
       "      <td>3</td>\n",
       "      <td>3</td>\n",
       "      <td>1</td>\n",
       "      <td>1</td>\n",
       "      <td>2</td>\n",
       "      <td>3</td>\n",
       "      <td>0</td>\n",
       "      <td>1</td>\n",
       "    </tr>\n",
       "    <tr>\n",
       "      <th>1</th>\n",
       "      <td>45</td>\n",
       "      <td>1</td>\n",
       "      <td>3</td>\n",
       "      <td>10</td>\n",
       "      <td>1</td>\n",
       "      <td>1</td>\n",
       "      <td>3</td>\n",
       "      <td>4</td>\n",
       "      <td>0</td>\n",
       "      <td>1</td>\n",
       "    </tr>\n",
       "    <tr>\n",
       "      <th>2</th>\n",
       "      <td>43</td>\n",
       "      <td>2</td>\n",
       "      <td>3</td>\n",
       "      <td>7</td>\n",
       "      <td>1</td>\n",
       "      <td>1</td>\n",
       "      <td>3</td>\n",
       "      <td>4</td>\n",
       "      <td>0</td>\n",
       "      <td>1</td>\n",
       "    </tr>\n",
       "    <tr>\n",
       "      <th>3</th>\n",
       "      <td>42</td>\n",
       "      <td>3</td>\n",
       "      <td>2</td>\n",
       "      <td>9</td>\n",
       "      <td>1</td>\n",
       "      <td>1</td>\n",
       "      <td>3</td>\n",
       "      <td>3</td>\n",
       "      <td>0</td>\n",
       "      <td>1</td>\n",
       "    </tr>\n",
       "    <tr>\n",
       "      <th>4</th>\n",
       "      <td>36</td>\n",
       "      <td>3</td>\n",
       "      <td>3</td>\n",
       "      <td>8</td>\n",
       "      <td>1</td>\n",
       "      <td>1</td>\n",
       "      <td>3</td>\n",
       "      <td>2</td>\n",
       "      <td>0</td>\n",
       "      <td>1</td>\n",
       "    </tr>\n",
       "  </tbody>\n",
       "</table>\n",
       "</div>"
      ],
      "text/plain": [
       "   age  education  husband_education  children  religion  working  \\\n",
       "0   24          2                  3         3         1        1   \n",
       "1   45          1                  3        10         1        1   \n",
       "2   43          2                  3         7         1        1   \n",
       "3   42          3                  2         9         1        1   \n",
       "4   36          3                  3         8         1        1   \n",
       "\n",
       "   husband_occupation  living_index  media  method  \n",
       "0                   2             3      0       1  \n",
       "1                   3             4      0       1  \n",
       "2                   3             4      0       1  \n",
       "3                   3             3      0       1  \n",
       "4                   3             2      0       1  "
      ]
     },
     "execution_count": 8,
     "metadata": {},
     "output_type": "execute_result"
    }
   ],
   "source": [
    "df.head()"
   ]
  },
  {
   "cell_type": "markdown",
   "metadata": {},
   "source": [
    "```\n",
    "Attribute Information:\n",
    "\n",
    "   1. Wife's age                     (numerical)\n",
    "   2. Wife's education               (categorical)      1=low, 2, 3, 4=high\n",
    "   3. Husband's education            (categorical)      1=low, 2, 3, 4=high\n",
    "   4. Number of children ever born   (numerical)\n",
    "   5. Wife's religion                (binary)           0=Non-Islam, 1=Islam\n",
    "   6. Wife's now working?            (binary)           0=Yes, 1=No\n",
    "   7. Husband's occupation           (categorical)      1, 2, 3, 4\n",
    "   8. Standard-of-living index       (categorical)      1=low, 2, 3, 4=high\n",
    "   9. Media exposure                 (binary)           0=Good, 1=Not good\n",
    "   10. Contraceptive method used     (class attribute)  1=No-use \n",
    "                                                        2=Long-term\n",
    "                                                        3=Short-term\n",
    "```"
   ]
  },
  {
   "cell_type": "markdown",
   "metadata": {},
   "source": [
    "Je veux juste une colonne"
   ]
  },
  {
   "cell_type": "code",
   "execution_count": 14,
   "metadata": {
    "collapsed": false
   },
   "outputs": [
    {
     "data": {
      "text/plain": [
       "0    24\n",
       "1    45\n",
       "2    43\n",
       "3    42\n",
       "4    36\n",
       "Name: age, dtype: int64"
      ]
     },
     "execution_count": 14,
     "metadata": {},
     "output_type": "execute_result"
    }
   ],
   "source": [
    "df[\"age\"].head()"
   ]
  },
  {
   "cell_type": "markdown",
   "metadata": {},
   "source": [
    "Je veux sélectionner plusieurs colonnes"
   ]
  },
  {
   "cell_type": "code",
   "execution_count": 15,
   "metadata": {
    "collapsed": false
   },
   "outputs": [
    {
     "data": {
      "text/html": [
       "<div>\n",
       "<table border=\"1\" class=\"dataframe\">\n",
       "  <thead>\n",
       "    <tr style=\"text-align: right;\">\n",
       "      <th></th>\n",
       "      <th>education</th>\n",
       "      <th>children</th>\n",
       "    </tr>\n",
       "  </thead>\n",
       "  <tbody>\n",
       "    <tr>\n",
       "      <th>0</th>\n",
       "      <td>2</td>\n",
       "      <td>3</td>\n",
       "    </tr>\n",
       "    <tr>\n",
       "      <th>1</th>\n",
       "      <td>1</td>\n",
       "      <td>10</td>\n",
       "    </tr>\n",
       "    <tr>\n",
       "      <th>2</th>\n",
       "      <td>2</td>\n",
       "      <td>7</td>\n",
       "    </tr>\n",
       "    <tr>\n",
       "      <th>3</th>\n",
       "      <td>3</td>\n",
       "      <td>9</td>\n",
       "    </tr>\n",
       "    <tr>\n",
       "      <th>4</th>\n",
       "      <td>3</td>\n",
       "      <td>8</td>\n",
       "    </tr>\n",
       "  </tbody>\n",
       "</table>\n",
       "</div>"
      ],
      "text/plain": [
       "   education  children\n",
       "0          2         3\n",
       "1          1        10\n",
       "2          2         7\n",
       "3          3         9\n",
       "4          3         8"
      ]
     },
     "execution_count": 15,
     "metadata": {},
     "output_type": "execute_result"
    }
   ],
   "source": [
    "df[['education', 'children']].head()"
   ]
  },
  {
   "cell_type": "code",
   "execution_count": 11,
   "metadata": {
    "collapsed": false
   },
   "outputs": [
    {
     "name": "stdout",
     "output_type": "stream",
     "text": [
      "<class 'pandas.core.frame.DataFrame'>\n",
      "RangeIndex: 1473 entries, 0 to 1472\n",
      "Data columns (total 10 columns):\n",
      "age                   1473 non-null int64\n",
      "education             1473 non-null int64\n",
      "husband_education     1473 non-null int64\n",
      "children              1473 non-null int64\n",
      "religion              1473 non-null int64\n",
      "working               1473 non-null int64\n",
      "husband_occupation    1473 non-null int64\n",
      "living_index          1473 non-null int64\n",
      "media                 1473 non-null int64\n",
      "method                1473 non-null int64\n",
      "dtypes: int64(10)\n",
      "memory usage: 115.2 KB\n"
     ]
    }
   ],
   "source": [
    "df.info()"
   ]
  },
  {
   "cell_type": "code",
   "execution_count": 12,
   "metadata": {
    "collapsed": false
   },
   "outputs": [
    {
     "data": {
      "text/html": [
       "<div>\n",
       "<table border=\"1\" class=\"dataframe\">\n",
       "  <thead>\n",
       "    <tr style=\"text-align: right;\">\n",
       "      <th></th>\n",
       "      <th>age</th>\n",
       "      <th>education</th>\n",
       "      <th>husband_education</th>\n",
       "      <th>children</th>\n",
       "      <th>religion</th>\n",
       "      <th>working</th>\n",
       "      <th>husband_occupation</th>\n",
       "      <th>living_index</th>\n",
       "      <th>media</th>\n",
       "      <th>method</th>\n",
       "    </tr>\n",
       "  </thead>\n",
       "  <tbody>\n",
       "    <tr>\n",
       "      <th>count</th>\n",
       "      <td>1473.000000</td>\n",
       "      <td>1473.000000</td>\n",
       "      <td>1473.000000</td>\n",
       "      <td>1473.000000</td>\n",
       "      <td>1473.000000</td>\n",
       "      <td>1473.000000</td>\n",
       "      <td>1473.000000</td>\n",
       "      <td>1473.000000</td>\n",
       "      <td>1473.000000</td>\n",
       "      <td>1473.000000</td>\n",
       "    </tr>\n",
       "    <tr>\n",
       "      <th>mean</th>\n",
       "      <td>32.538357</td>\n",
       "      <td>2.958588</td>\n",
       "      <td>3.429735</td>\n",
       "      <td>3.261371</td>\n",
       "      <td>0.850645</td>\n",
       "      <td>0.749491</td>\n",
       "      <td>2.137814</td>\n",
       "      <td>3.133741</td>\n",
       "      <td>0.073999</td>\n",
       "      <td>1.919891</td>\n",
       "    </tr>\n",
       "    <tr>\n",
       "      <th>std</th>\n",
       "      <td>8.227245</td>\n",
       "      <td>1.014994</td>\n",
       "      <td>0.816349</td>\n",
       "      <td>2.358549</td>\n",
       "      <td>0.356559</td>\n",
       "      <td>0.433453</td>\n",
       "      <td>0.864857</td>\n",
       "      <td>0.976161</td>\n",
       "      <td>0.261858</td>\n",
       "      <td>0.876376</td>\n",
       "    </tr>\n",
       "    <tr>\n",
       "      <th>min</th>\n",
       "      <td>16.000000</td>\n",
       "      <td>1.000000</td>\n",
       "      <td>1.000000</td>\n",
       "      <td>0.000000</td>\n",
       "      <td>0.000000</td>\n",
       "      <td>0.000000</td>\n",
       "      <td>1.000000</td>\n",
       "      <td>1.000000</td>\n",
       "      <td>0.000000</td>\n",
       "      <td>1.000000</td>\n",
       "    </tr>\n",
       "    <tr>\n",
       "      <th>25%</th>\n",
       "      <td>26.000000</td>\n",
       "      <td>2.000000</td>\n",
       "      <td>3.000000</td>\n",
       "      <td>1.000000</td>\n",
       "      <td>1.000000</td>\n",
       "      <td>0.000000</td>\n",
       "      <td>1.000000</td>\n",
       "      <td>3.000000</td>\n",
       "      <td>0.000000</td>\n",
       "      <td>1.000000</td>\n",
       "    </tr>\n",
       "    <tr>\n",
       "      <th>50%</th>\n",
       "      <td>32.000000</td>\n",
       "      <td>3.000000</td>\n",
       "      <td>4.000000</td>\n",
       "      <td>3.000000</td>\n",
       "      <td>1.000000</td>\n",
       "      <td>1.000000</td>\n",
       "      <td>2.000000</td>\n",
       "      <td>3.000000</td>\n",
       "      <td>0.000000</td>\n",
       "      <td>2.000000</td>\n",
       "    </tr>\n",
       "    <tr>\n",
       "      <th>75%</th>\n",
       "      <td>39.000000</td>\n",
       "      <td>4.000000</td>\n",
       "      <td>4.000000</td>\n",
       "      <td>4.000000</td>\n",
       "      <td>1.000000</td>\n",
       "      <td>1.000000</td>\n",
       "      <td>3.000000</td>\n",
       "      <td>4.000000</td>\n",
       "      <td>0.000000</td>\n",
       "      <td>3.000000</td>\n",
       "    </tr>\n",
       "    <tr>\n",
       "      <th>max</th>\n",
       "      <td>49.000000</td>\n",
       "      <td>4.000000</td>\n",
       "      <td>4.000000</td>\n",
       "      <td>16.000000</td>\n",
       "      <td>1.000000</td>\n",
       "      <td>1.000000</td>\n",
       "      <td>4.000000</td>\n",
       "      <td>4.000000</td>\n",
       "      <td>1.000000</td>\n",
       "      <td>3.000000</td>\n",
       "    </tr>\n",
       "  </tbody>\n",
       "</table>\n",
       "</div>"
      ],
      "text/plain": [
       "               age    education  husband_education     children     religion  \\\n",
       "count  1473.000000  1473.000000        1473.000000  1473.000000  1473.000000   \n",
       "mean     32.538357     2.958588           3.429735     3.261371     0.850645   \n",
       "std       8.227245     1.014994           0.816349     2.358549     0.356559   \n",
       "min      16.000000     1.000000           1.000000     0.000000     0.000000   \n",
       "25%      26.000000     2.000000           3.000000     1.000000     1.000000   \n",
       "50%      32.000000     3.000000           4.000000     3.000000     1.000000   \n",
       "75%      39.000000     4.000000           4.000000     4.000000     1.000000   \n",
       "max      49.000000     4.000000           4.000000    16.000000     1.000000   \n",
       "\n",
       "           working  husband_occupation  living_index        media       method  \n",
       "count  1473.000000         1473.000000   1473.000000  1473.000000  1473.000000  \n",
       "mean      0.749491            2.137814      3.133741     0.073999     1.919891  \n",
       "std       0.433453            0.864857      0.976161     0.261858     0.876376  \n",
       "min       0.000000            1.000000      1.000000     0.000000     1.000000  \n",
       "25%       0.000000            1.000000      3.000000     0.000000     1.000000  \n",
       "50%       1.000000            2.000000      3.000000     0.000000     2.000000  \n",
       "75%       1.000000            3.000000      4.000000     0.000000     3.000000  \n",
       "max       1.000000            4.000000      4.000000     1.000000     3.000000  "
      ]
     },
     "execution_count": 12,
     "metadata": {},
     "output_type": "execute_result"
    }
   ],
   "source": [
    "df.describe()"
   ]
  },
  {
   "cell_type": "markdown",
   "metadata": {},
   "source": [
    "**Combien de valeurs uniques par colonne ?**"
   ]
  },
  {
   "cell_type": "code",
   "execution_count": 10,
   "metadata": {
    "collapsed": false
   },
   "outputs": [
    {
     "data": {
      "text/plain": [
       "age                   34\n",
       "education              4\n",
       "husband_education      4\n",
       "children              15\n",
       "religion               2\n",
       "working                2\n",
       "husband_occupation     4\n",
       "living_index           4\n",
       "media                  2\n",
       "method                 3\n",
       "dtype: int64"
      ]
     },
     "execution_count": 10,
     "metadata": {},
     "output_type": "execute_result"
    }
   ],
   "source": [
    "df.apply(lambda x: x.nunique())"
   ]
  },
  {
   "cell_type": "markdown",
   "metadata": {},
   "source": [
    "**L'âge et le nombre d'enfants par méthode contraceptive**\n",
    "\n",
    "Présentation du `group-by`."
   ]
  },
  {
   "cell_type": "code",
   "execution_count": 18,
   "metadata": {
    "collapsed": false
   },
   "outputs": [
    {
     "data": {
      "text/html": [
       "<div>\n",
       "<table border=\"1\" class=\"dataframe\">\n",
       "  <thead>\n",
       "    <tr style=\"text-align: right;\">\n",
       "      <th></th>\n",
       "      <th>age</th>\n",
       "      <th>children</th>\n",
       "    </tr>\n",
       "    <tr>\n",
       "      <th>method</th>\n",
       "      <th></th>\n",
       "      <th></th>\n",
       "    </tr>\n",
       "  </thead>\n",
       "  <tbody>\n",
       "    <tr>\n",
       "      <th>1</th>\n",
       "      <td>33.424483</td>\n",
       "      <td>2.934817</td>\n",
       "    </tr>\n",
       "    <tr>\n",
       "      <th>2</th>\n",
       "      <td>34.384384</td>\n",
       "      <td>3.738739</td>\n",
       "    </tr>\n",
       "    <tr>\n",
       "      <th>3</th>\n",
       "      <td>30.244618</td>\n",
       "      <td>3.352250</td>\n",
       "    </tr>\n",
       "  </tbody>\n",
       "</table>\n",
       "</div>"
      ],
      "text/plain": [
       "              age  children\n",
       "method                     \n",
       "1       33.424483  2.934817\n",
       "2       34.384384  3.738739\n",
       "3       30.244618  3.352250"
      ]
     },
     "execution_count": 18,
     "metadata": {},
     "output_type": "execute_result"
    }
   ],
   "source": [
    "df.groupby('method')[['age', 'children']].mean()"
   ]
  },
  {
   "cell_type": "markdown",
   "metadata": {},
   "source": [
    "**Corrélation** entre les données"
   ]
  },
  {
   "cell_type": "code",
   "execution_count": 34,
   "metadata": {
    "collapsed": false
   },
   "outputs": [
    {
     "data": {
      "text/plain": [
       "<matplotlib.axes._subplots.AxesSubplot at 0x7f5e153a6c18>"
      ]
     },
     "execution_count": 34,
     "metadata": {},
     "output_type": "execute_result"
    },
    {
     "data": {
      "image/png": "[encoded data removed]",
      "text/plain": [
       "<matplotlib.figure.Figure at 0x7f5e15491e10>"
      ]
     },
     "metadata": {},
     "output_type": "display_data"
    }
   ],
   "source": [
    "sns.heatmap(df.corr(), square=True, annot=True, fmt=\".1f\")"
   ]
  },
  {
   "cell_type": "markdown",
   "metadata": {},
   "source": [
    "Un peu de prédiction ??"
   ]
  },
  {
   "cell_type": "code",
   "execution_count": 64,
   "metadata": {
    "collapsed": true
   },
   "outputs": [],
   "source": [
    "from sklearn.preprocessing import StandardScaler\n",
    "from sklearn import cross_validation\n",
    "from sklearn.linear_model import LogisticRegression"
   ]
  },
  {
   "cell_type": "markdown",
   "metadata": {},
   "source": [
    "On prend d'un côté les *features* et de l'autre la valeur à prédire (i.e. `method`)"
   ]
  },
  {
   "cell_type": "code",
   "execution_count": 42,
   "metadata": {
    "collapsed": false
   },
   "outputs": [],
   "source": [
    "X = df.drop('method', axis=1).values"
   ]
  },
  {
   "cell_type": "code",
   "execution_count": 43,
   "metadata": {
    "collapsed": true
   },
   "outputs": [],
   "source": [
    "y = df['method'].values"
   ]
  },
  {
   "cell_type": "code",
   "execution_count": 78,
   "metadata": {
    "collapsed": true
   },
   "outputs": [],
   "source": [
    "X_train, X_test, y_train, y_test = cross_validation.train_test_split(X, y, random_state=6)"
   ]
  },
  {
   "cell_type": "code",
   "execution_count": 79,
   "metadata": {
    "collapsed": true
   },
   "outputs": [],
   "source": [
    "logit = LogisticRegression()"
   ]
  },
  {
   "cell_type": "code",
   "execution_count": 80,
   "metadata": {
    "collapsed": false
   },
   "outputs": [
    {
     "data": {
      "text/plain": [
       "LogisticRegression(C=1.0, class_weight=None, dual=False, fit_intercept=True,\n",
       "          intercept_scaling=1, max_iter=100, multi_class='ovr', n_jobs=1,\n",
       "          penalty='l2', random_state=None, solver='liblinear', tol=0.0001,\n",
       "          verbose=0, warm_start=False)"
      ]
     },
     "execution_count": 80,
     "metadata": {},
     "output_type": "execute_result"
    }
   ],
   "source": [
    "logit.fit(X_train, y_train)"
   ]
  },
  {
   "cell_type": "code",
   "execution_count": 81,
   "metadata": {
    "collapsed": false
   },
   "outputs": [
    {
     "data": {
      "text/plain": [
       "array([1, 2, 1, 1, 2, 3, 2, 3, 1, 1, 3, 2, 3, 1, 2, 1, 3, 3, 1, 2, 1, 3, 3,\n",
       "       1, 1, 1, 1, 3, 1, 2, 3, 2, 1, 1, 1, 2, 1, 3, 3, 1, 2, 2, 1, 1, 2, 3,\n",
       "       1, 2, 1, 1, 1, 3, 2, 3, 1, 3, 1, 1, 1, 3, 3, 1, 3, 3, 3, 1, 2, 1, 1,\n",
       "       3, 1, 3, 1, 1, 3, 2, 1, 1, 1, 1, 1, 2, 3, 2, 1, 1, 1, 3, 1, 3, 1, 1,\n",
       "       3, 2, 1, 2, 3, 1, 1, 2, 1, 1, 1, 2, 2, 3, 3, 2, 1, 3, 3, 3, 1, 1, 1,\n",
       "       3, 2, 1, 1, 3, 1, 3, 1, 1, 1, 3, 3, 1, 1, 3, 2, 2, 1, 2, 3, 3, 2, 2,\n",
       "       1, 3, 1, 1, 1, 3, 3, 1, 1, 1, 1, 1, 1, 3, 1, 1, 2, 1, 3, 2, 3, 2, 1,\n",
       "       2, 3, 2, 2, 3, 1, 3, 3, 3, 3, 1, 1, 2, 1, 1, 1, 1, 1, 3, 2, 1, 1, 3,\n",
       "       1, 3, 2, 1, 1, 1, 1, 3, 3, 1, 1, 3, 3, 3, 1, 3, 3, 2, 3, 3, 1, 2, 3,\n",
       "       2, 3, 3, 3, 1, 1, 1, 3, 1, 1, 1, 1, 1, 3, 1, 1, 1, 1, 1, 3, 3, 1, 2,\n",
       "       2, 2, 3, 1, 2, 1, 1, 1, 1, 3, 1, 2, 2, 1, 1, 1, 1, 3, 3, 1, 1, 1, 3,\n",
       "       1, 1, 3, 3, 1, 3, 1, 3, 1, 3, 2, 2, 1, 2, 1, 1, 1, 3, 1, 3, 1, 3, 3,\n",
       "       3, 1, 3, 3, 1, 2, 1, 3, 3, 1, 1, 3, 1, 1, 3, 2, 2, 1, 3, 1, 1, 1, 3,\n",
       "       1, 1, 2, 2, 1, 3, 3, 1, 1, 1, 3, 3, 2, 1, 1, 1, 1, 3, 3, 1, 3, 2, 2,\n",
       "       3, 3, 1, 3, 1, 1, 3, 3, 2, 3, 1, 3, 2, 3, 1, 2, 2, 1, 1, 2, 1, 3, 1,\n",
       "       1, 1, 3, 2, 3, 3, 1, 1, 2, 3, 3, 3, 3, 1, 3, 3, 2, 2, 3, 3, 3, 3, 3,\n",
       "       3])"
      ]
     },
     "execution_count": 81,
     "metadata": {},
     "output_type": "execute_result"
    }
   ],
   "source": [
    "logit.predict(X_test)"
   ]
  },
  {
   "cell_type": "code",
   "execution_count": 82,
   "metadata": {
    "collapsed": false
   },
   "outputs": [
    {
     "data": {
      "text/plain": [
       "0.50677506775067749"
      ]
     },
     "execution_count": 82,
     "metadata": {},
     "output_type": "execute_result"
    }
   ],
   "source": [
    "logit.score(X_test, y_test)"
   ]
  },
  {
   "cell_type": "markdown",
   "metadata": {},
   "source": [
    "column no. 1, 2 ,6, 7 are categorical\n",
    "\n",
    "* education\n",
    "* husband's education\n",
    "* husband's occupation\n",
    "* standard-of-living\n",
    "\n",
    "try to turn them into categorical data (i.e. more than 2 columns with 0 or 1)"
   ]
  },
  {
   "cell_type": "code",
   "execution_count": 91,
   "metadata": {
    "collapsed": false
   },
   "outputs": [],
   "source": [
    "df_2 = df.drop(['education', 'husband_education', 'husband_occupation', 'living_index'], axis=1)\n",
    "df_2 = pd.concat([df_2, pd.get_dummies(df['education'], prefix='educ', drop_first=True),\n",
    "                 pd.get_dummies(df['husband_education'], prefix='h_educ', drop_first=True),\n",
    "                 pd.get_dummies(df['husband_occupation'], prefix='h_occ', drop_first=True),\n",
    "                 pd.get_dummies(df['living_index'], prefix='l_idx', drop_first=True)], axis=1)"
   ]
  },
  {
   "cell_type": "code",
   "execution_count": 92,
   "metadata": {
    "collapsed": false
   },
   "outputs": [
    {
     "data": {
      "text/html": [
       "<div>\n",
       "<table border=\"1\" class=\"dataframe\">\n",
       "  <thead>\n",
       "    <tr style=\"text-align: right;\">\n",
       "      <th></th>\n",
       "      <th>age</th>\n",
       "      <th>children</th>\n",
       "      <th>religion</th>\n",
       "      <th>working</th>\n",
       "      <th>media</th>\n",
       "      <th>method</th>\n",
       "      <th>educ_2</th>\n",
       "      <th>educ_3</th>\n",
       "      <th>educ_4</th>\n",
       "      <th>h_educ_2</th>\n",
       "      <th>h_educ_3</th>\n",
       "      <th>h_educ_4</th>\n",
       "      <th>h_occ_2</th>\n",
       "      <th>h_occ_3</th>\n",
       "      <th>h_occ_4</th>\n",
       "      <th>l_idx_2</th>\n",
       "      <th>l_idx_3</th>\n",
       "      <th>l_idx_4</th>\n",
       "    </tr>\n",
       "  </thead>\n",
       "  <tbody>\n",
       "    <tr>\n",
       "      <th>0</th>\n",
       "      <td>24</td>\n",
       "      <td>3</td>\n",
       "      <td>1</td>\n",
       "      <td>1</td>\n",
       "      <td>0</td>\n",
       "      <td>1</td>\n",
       "      <td>1.0</td>\n",
       "      <td>0.0</td>\n",
       "      <td>0.0</td>\n",
       "      <td>0.0</td>\n",
       "      <td>1.0</td>\n",
       "      <td>0.0</td>\n",
       "      <td>1.0</td>\n",
       "      <td>0.0</td>\n",
       "      <td>0.0</td>\n",
       "      <td>0.0</td>\n",
       "      <td>1.0</td>\n",
       "      <td>0.0</td>\n",
       "    </tr>\n",
       "    <tr>\n",
       "      <th>1</th>\n",
       "      <td>45</td>\n",
       "      <td>10</td>\n",
       "      <td>1</td>\n",
       "      <td>1</td>\n",
       "      <td>0</td>\n",
       "      <td>1</td>\n",
       "      <td>0.0</td>\n",
       "      <td>0.0</td>\n",
       "      <td>0.0</td>\n",
       "      <td>0.0</td>\n",
       "      <td>1.0</td>\n",
       "      <td>0.0</td>\n",
       "      <td>0.0</td>\n",
       "      <td>1.0</td>\n",
       "      <td>0.0</td>\n",
       "      <td>0.0</td>\n",
       "      <td>0.0</td>\n",
       "      <td>1.0</td>\n",
       "    </tr>\n",
       "    <tr>\n",
       "      <th>2</th>\n",
       "      <td>43</td>\n",
       "      <td>7</td>\n",
       "      <td>1</td>\n",
       "      <td>1</td>\n",
       "      <td>0</td>\n",
       "      <td>1</td>\n",
       "      <td>1.0</td>\n",
       "      <td>0.0</td>\n",
       "      <td>0.0</td>\n",
       "      <td>0.0</td>\n",
       "      <td>1.0</td>\n",
       "      <td>0.0</td>\n",
       "      <td>0.0</td>\n",
       "      <td>1.0</td>\n",
       "      <td>0.0</td>\n",
       "      <td>0.0</td>\n",
       "      <td>0.0</td>\n",
       "      <td>1.0</td>\n",
       "    </tr>\n",
       "    <tr>\n",
       "      <th>3</th>\n",
       "      <td>42</td>\n",
       "      <td>9</td>\n",
       "      <td>1</td>\n",
       "      <td>1</td>\n",
       "      <td>0</td>\n",
       "      <td>1</td>\n",
       "      <td>0.0</td>\n",
       "      <td>1.0</td>\n",
       "      <td>0.0</td>\n",
       "      <td>1.0</td>\n",
       "      <td>0.0</td>\n",
       "      <td>0.0</td>\n",
       "      <td>0.0</td>\n",
       "      <td>1.0</td>\n",
       "      <td>0.0</td>\n",
       "      <td>0.0</td>\n",
       "      <td>1.0</td>\n",
       "      <td>0.0</td>\n",
       "    </tr>\n",
       "    <tr>\n",
       "      <th>4</th>\n",
       "      <td>36</td>\n",
       "      <td>8</td>\n",
       "      <td>1</td>\n",
       "      <td>1</td>\n",
       "      <td>0</td>\n",
       "      <td>1</td>\n",
       "      <td>0.0</td>\n",
       "      <td>1.0</td>\n",
       "      <td>0.0</td>\n",
       "      <td>0.0</td>\n",
       "      <td>1.0</td>\n",
       "      <td>0.0</td>\n",
       "      <td>0.0</td>\n",
       "      <td>1.0</td>\n",
       "      <td>0.0</td>\n",
       "      <td>1.0</td>\n",
       "      <td>0.0</td>\n",
       "      <td>0.0</td>\n",
       "    </tr>\n",
       "  </tbody>\n",
       "</table>\n",
       "</div>"
      ],
      "text/plain": [
       "   age  children  religion  working  media  method  educ_2  educ_3  educ_4  \\\n",
       "0   24         3         1        1      0       1     1.0     0.0     0.0   \n",
       "1   45        10         1        1      0       1     0.0     0.0     0.0   \n",
       "2   43         7         1        1      0       1     1.0     0.0     0.0   \n",
       "3   42         9         1        1      0       1     0.0     1.0     0.0   \n",
       "4   36         8         1        1      0       1     0.0     1.0     0.0   \n",
       "\n",
       "   h_educ_2  h_educ_3  h_educ_4  h_occ_2  h_occ_3  h_occ_4  l_idx_2  l_idx_3  \\\n",
       "0       0.0       1.0       0.0      1.0      0.0      0.0      0.0      1.0   \n",
       "1       0.0       1.0       0.0      0.0      1.0      0.0      0.0      0.0   \n",
       "2       0.0       1.0       0.0      0.0      1.0      0.0      0.0      0.0   \n",
       "3       1.0       0.0       0.0      0.0      1.0      0.0      0.0      1.0   \n",
       "4       0.0       1.0       0.0      0.0      1.0      0.0      1.0      0.0   \n",
       "\n",
       "   l_idx_4  \n",
       "0      0.0  \n",
       "1      1.0  \n",
       "2      1.0  \n",
       "3      0.0  \n",
       "4      0.0  "
      ]
     },
     "execution_count": 92,
     "metadata": {},
     "output_type": "execute_result"
    }
   ],
   "source": [
    "df_2.head()"
   ]
  },
  {
   "cell_type": "code",
   "execution_count": 93,
   "metadata": {
    "collapsed": true
   },
   "outputs": [],
   "source": [
    "X_2 = df_2.drop('method', axis=1).values"
   ]
  },
  {
   "cell_type": "code",
   "execution_count": 94,
   "metadata": {
    "collapsed": true
   },
   "outputs": [],
   "source": [
    "y_2 = df_2['method'].values"
   ]
  },
  {
   "cell_type": "code",
   "execution_count": 95,
   "metadata": {
    "collapsed": true
   },
   "outputs": [],
   "source": [
    "X2_train, X2_test, y2_train, y2_test = cross_validation.train_test_split(X_2, y_2, random_state=6)"
   ]
  },
  {
   "cell_type": "code",
   "execution_count": 96,
   "metadata": {
    "collapsed": false
   },
   "outputs": [
    {
     "data": {
      "text/plain": [
       "0.48509485094850946"
      ]
     },
     "execution_count": 96,
     "metadata": {},
     "output_type": "execute_result"
    }
   ],
   "source": [
    "logit.fit(X2_train, y2_train)\n",
    "logit.score(X2_test, y2_test)"
   ]
  },
  {
   "cell_type": "markdown",
   "metadata": {},
   "source": [
    "## Flow People Count\n",
    "\n",
    "**Data Set Information**:\n",
    "\n",
    "   > Observations come from 2 data streams (people flow in and out of the building), over 15 weeks, 48 time slices per day (half hour count aggregates).\n",
    "\n",
    "   > The purpose is to predict the presence of an event such as a conference in the building that is reflected by unusually high people counts for that day/time period. "
   ]
  },
  {
   "cell_type": "markdown",
   "metadata": {},
   "source": [
    "**Idées**\n",
    "\n",
    "* changer le 7 et 9 en in & out\n",
    "* bien convertir les dates & time en datetime\n",
    "* les mettre en index\n",
    "* tracer les courbes entrant, sortant\n",
    "* faire du sample\n",
    "* faire du rolling\n",
    "* faire de l'interpolation ?"
   ]
  },
  {
   "cell_type": "code",
   "execution_count": 49,
   "metadata": {
    "collapsed": true
   },
   "outputs": [],
   "source": [
    "flow_names = [\"flow_id\", \"date\", \"time\", \"count\"]"
   ]
  },
  {
   "cell_type": "code",
   "execution_count": 50,
   "metadata": {
    "collapsed": false
   },
   "outputs": [],
   "source": [
    "flow = pd.read_csv(\"http://archive.ics.uci.edu/ml/machine-learning-databases/event-detection/CalIt2.data\",\n",
    "                  names=flow_names, header=0)"
   ]
  },
  {
   "cell_type": "code",
   "execution_count": 51,
   "metadata": {
    "collapsed": false
   },
   "outputs": [
    {
     "data": {
      "text/html": [
       "<div>\n",
       "<table border=\"1\" class=\"dataframe\">\n",
       "  <thead>\n",
       "    <tr style=\"text-align: right;\">\n",
       "      <th></th>\n",
       "      <th>flow_id</th>\n",
       "      <th>date</th>\n",
       "      <th>time</th>\n",
       "      <th>count</th>\n",
       "    </tr>\n",
       "  </thead>\n",
       "  <tbody>\n",
       "    <tr>\n",
       "      <th>0</th>\n",
       "      <td>9</td>\n",
       "      <td>07/24/05</td>\n",
       "      <td>00:00:00</td>\n",
       "      <td>0</td>\n",
       "    </tr>\n",
       "    <tr>\n",
       "      <th>1</th>\n",
       "      <td>7</td>\n",
       "      <td>07/24/05</td>\n",
       "      <td>00:30:00</td>\n",
       "      <td>1</td>\n",
       "    </tr>\n",
       "    <tr>\n",
       "      <th>2</th>\n",
       "      <td>9</td>\n",
       "      <td>07/24/05</td>\n",
       "      <td>00:30:00</td>\n",
       "      <td>0</td>\n",
       "    </tr>\n",
       "    <tr>\n",
       "      <th>3</th>\n",
       "      <td>7</td>\n",
       "      <td>07/24/05</td>\n",
       "      <td>01:00:00</td>\n",
       "      <td>0</td>\n",
       "    </tr>\n",
       "    <tr>\n",
       "      <th>4</th>\n",
       "      <td>9</td>\n",
       "      <td>07/24/05</td>\n",
       "      <td>01:00:00</td>\n",
       "      <td>0</td>\n",
       "    </tr>\n",
       "  </tbody>\n",
       "</table>\n",
       "</div>"
      ],
      "text/plain": [
       "   flow_id      date      time  count\n",
       "0        9  07/24/05  00:00:00      0\n",
       "1        7  07/24/05  00:30:00      1\n",
       "2        9  07/24/05  00:30:00      0\n",
       "3        7  07/24/05  01:00:00      0\n",
       "4        9  07/24/05  01:00:00      0"
      ]
     },
     "execution_count": 51,
     "metadata": {},
     "output_type": "execute_result"
    }
   ],
   "source": [
    "flow.head()"
   ]
  },
  {
   "cell_type": "code",
   "execution_count": 42,
   "metadata": {
    "collapsed": false
   },
   "outputs": [
    {
     "name": "stdout",
     "output_type": "stream",
     "text": [
      "<class 'pandas.core.frame.DataFrame'>\n",
      "RangeIndex: 10079 entries, 0 to 10078\n",
      "Data columns (total 4 columns):\n",
      "7           10079 non-null int64\n",
      "07/24/05    10079 non-null object\n",
      "00:00:00    10079 non-null object\n",
      "0           10079 non-null int64\n",
      "dtypes: int64(2), object(2)\n",
      "memory usage: 315.0+ KB\n"
     ]
    }
   ],
   "source": [
    "flow.info()"
   ]
  },
  {
   "cell_type": "markdown",
   "metadata": {},
   "source": [
    "## Wine Data Set\n",
    "\n",
    "**Data Set Description**:\n",
    "\n",
    "   > These data are the results of a chemical analysis of wines grown in the same region in Italy but derived from three different cultivars. The analysis determined the quantities of 13 constituents found in each of the three types of wines.\n"
   ]
  },
  {
   "cell_type": "markdown",
   "metadata": {},
   "source": [
    "**Mêmes idées** que pour les méthodes de contraception"
   ]
  },
  {
   "cell_type": "code",
   "execution_count": 44,
   "metadata": {
    "collapsed": true
   },
   "outputs": [],
   "source": [
    "wine = pd.read_csv(\"http://archive.ics.uci.edu/ml/machine-learning-databases/wine/wine.data\")"
   ]
  },
  {
   "cell_type": "code",
   "execution_count": 45,
   "metadata": {
    "collapsed": false
   },
   "outputs": [
    {
     "data": {
      "text/html": [
       "<div>\n",
       "<table border=\"1\" class=\"dataframe\">\n",
       "  <thead>\n",
       "    <tr style=\"text-align: right;\">\n",
       "      <th></th>\n",
       "      <th>1</th>\n",
       "      <th>14.23</th>\n",
       "      <th>1.71</th>\n",
       "      <th>2.43</th>\n",
       "      <th>15.6</th>\n",
       "      <th>127</th>\n",
       "      <th>2.8</th>\n",
       "      <th>3.06</th>\n",
       "      <th>.28</th>\n",
       "      <th>2.29</th>\n",
       "      <th>5.64</th>\n",
       "      <th>1.04</th>\n",
       "      <th>3.92</th>\n",
       "      <th>1065</th>\n",
       "    </tr>\n",
       "  </thead>\n",
       "  <tbody>\n",
       "    <tr>\n",
       "      <th>0</th>\n",
       "      <td>1</td>\n",
       "      <td>13.20</td>\n",
       "      <td>1.78</td>\n",
       "      <td>2.14</td>\n",
       "      <td>11.2</td>\n",
       "      <td>100</td>\n",
       "      <td>2.65</td>\n",
       "      <td>2.76</td>\n",
       "      <td>0.26</td>\n",
       "      <td>1.28</td>\n",
       "      <td>4.38</td>\n",
       "      <td>1.05</td>\n",
       "      <td>3.40</td>\n",
       "      <td>1050</td>\n",
       "    </tr>\n",
       "    <tr>\n",
       "      <th>1</th>\n",
       "      <td>1</td>\n",
       "      <td>13.16</td>\n",
       "      <td>2.36</td>\n",
       "      <td>2.67</td>\n",
       "      <td>18.6</td>\n",
       "      <td>101</td>\n",
       "      <td>2.80</td>\n",
       "      <td>3.24</td>\n",
       "      <td>0.30</td>\n",
       "      <td>2.81</td>\n",
       "      <td>5.68</td>\n",
       "      <td>1.03</td>\n",
       "      <td>3.17</td>\n",
       "      <td>1185</td>\n",
       "    </tr>\n",
       "    <tr>\n",
       "      <th>2</th>\n",
       "      <td>1</td>\n",
       "      <td>14.37</td>\n",
       "      <td>1.95</td>\n",
       "      <td>2.50</td>\n",
       "      <td>16.8</td>\n",
       "      <td>113</td>\n",
       "      <td>3.85</td>\n",
       "      <td>3.49</td>\n",
       "      <td>0.24</td>\n",
       "      <td>2.18</td>\n",
       "      <td>7.80</td>\n",
       "      <td>0.86</td>\n",
       "      <td>3.45</td>\n",
       "      <td>1480</td>\n",
       "    </tr>\n",
       "    <tr>\n",
       "      <th>3</th>\n",
       "      <td>1</td>\n",
       "      <td>13.24</td>\n",
       "      <td>2.59</td>\n",
       "      <td>2.87</td>\n",
       "      <td>21.0</td>\n",
       "      <td>118</td>\n",
       "      <td>2.80</td>\n",
       "      <td>2.69</td>\n",
       "      <td>0.39</td>\n",
       "      <td>1.82</td>\n",
       "      <td>4.32</td>\n",
       "      <td>1.04</td>\n",
       "      <td>2.93</td>\n",
       "      <td>735</td>\n",
       "    </tr>\n",
       "    <tr>\n",
       "      <th>4</th>\n",
       "      <td>1</td>\n",
       "      <td>14.20</td>\n",
       "      <td>1.76</td>\n",
       "      <td>2.45</td>\n",
       "      <td>15.2</td>\n",
       "      <td>112</td>\n",
       "      <td>3.27</td>\n",
       "      <td>3.39</td>\n",
       "      <td>0.34</td>\n",
       "      <td>1.97</td>\n",
       "      <td>6.75</td>\n",
       "      <td>1.05</td>\n",
       "      <td>2.85</td>\n",
       "      <td>1450</td>\n",
       "    </tr>\n",
       "  </tbody>\n",
       "</table>\n",
       "</div>"
      ],
      "text/plain": [
       "   1  14.23  1.71  2.43  15.6  127   2.8  3.06   .28  2.29  5.64  1.04  3.92  \\\n",
       "0  1  13.20  1.78  2.14  11.2  100  2.65  2.76  0.26  1.28  4.38  1.05  3.40   \n",
       "1  1  13.16  2.36  2.67  18.6  101  2.80  3.24  0.30  2.81  5.68  1.03  3.17   \n",
       "2  1  14.37  1.95  2.50  16.8  113  3.85  3.49  0.24  2.18  7.80  0.86  3.45   \n",
       "3  1  13.24  2.59  2.87  21.0  118  2.80  2.69  0.39  1.82  4.32  1.04  2.93   \n",
       "4  1  14.20  1.76  2.45  15.2  112  3.27  3.39  0.34  1.97  6.75  1.05  2.85   \n",
       "\n",
       "   1065  \n",
       "0  1050  \n",
       "1  1185  \n",
       "2  1480  \n",
       "3   735  \n",
       "4  1450  "
      ]
     },
     "execution_count": 45,
     "metadata": {},
     "output_type": "execute_result"
    }
   ],
   "source": [
    "wine.head()"
   ]
  },
  {
   "cell_type": "markdown",
   "metadata": {},
   "source": [
    "## Bordeaux Open Data"
   ]
  },
  {
   "cell_type": "markdown",
   "metadata": {},
   "source": [
    "**Idées** :\n",
    "\n",
    "* tracer les points sur une carte (on sort un peu de pandas)\n",
    "* y'a des points & des polygones : faire du geopandas ?"
   ]
  },
  {
   "cell_type": "code",
   "execution_count": 20,
   "metadata": {
    "collapsed": true
   },
   "outputs": [],
   "source": [
    "# aire de jeux\n",
    "url_playground = \"https://bdxconfigogdi.blob.core.windows.net/converteddata/databordeaux/airejeux.csv\"\n",
    "local_playground = \"data/airejeux.csv\""
   ]
  },
  {
   "cell_type": "code",
   "execution_count": 22,
   "metadata": {
    "collapsed": false
   },
   "outputs": [],
   "source": [
    "playground = pd.read_csv(url_playground, sep=\";\")"
   ]
  },
  {
   "cell_type": "code",
   "execution_count": 23,
   "metadata": {
    "collapsed": true
   },
   "outputs": [],
   "source": [
    "# parcs, squares, jardins\n",
    "url_park = \"https://bdxconfigogdi.blob.core.windows.net/converteddata/databordeaux/parcjardin.csv\"\n",
    "local_park = \"data/parcjardin.csv\""
   ]
  },
  {
   "cell_type": "code",
   "execution_count": 24,
   "metadata": {
    "collapsed": true
   },
   "outputs": [],
   "source": [
    "park = pd.read_csv(url_park, sep=\";\")"
   ]
  },
  {
   "cell_type": "code",
   "execution_count": 25,
   "metadata": {
    "collapsed": false
   },
   "outputs": [
    {
     "data": {
      "text/html": [
       "<div>\n",
       "<table border=\"1\" class=\"dataframe\">\n",
       "  <thead>\n",
       "    <tr style=\"text-align: right;\">\n",
       "      <th></th>\n",
       "      <th>CLE</th>\n",
       "      <th>NATURE</th>\n",
       "      <th>NOM</th>\n",
       "      <th>AGE_MIN</th>\n",
       "      <th>AGE_MAX</th>\n",
       "      <th>NOMBRE_JEUX</th>\n",
       "      <th>X_LONG</th>\n",
       "      <th>Y_LAT</th>\n",
       "      <th>GEOMETRIE</th>\n",
       "      <th>NUM_QUARTIER</th>\n",
       "    </tr>\n",
       "  </thead>\n",
       "  <tbody>\n",
       "    <tr>\n",
       "      <th>0</th>\n",
       "      <td>976</td>\n",
       "      <td>Aire de jeux</td>\n",
       "      <td>Berges du Lac_Plage</td>\n",
       "      <td>1,00</td>\n",
       "      <td>12,00</td>\n",
       "      <td>2</td>\n",
       "      <td>-0,578932285046847</td>\n",
       "      <td>44,8779825499956</td>\n",
       "      <td>POLYGON ((-0.578842032917968 44.8779719925657,...</td>\n",
       "      <td>NaN</td>\n",
       "    </tr>\n",
       "    <tr>\n",
       "      <th>1</th>\n",
       "      <td>978</td>\n",
       "      <td>Aire de jeux</td>\n",
       "      <td>Place des Droits de l'Enfant</td>\n",
       "      <td>1,00</td>\n",
       "      <td>12,00</td>\n",
       "      <td>11</td>\n",
       "      <td>-0,564294382315667</td>\n",
       "      <td>44,845843033572</td>\n",
       "      <td>POLYGON ((-0.564636852525033 44.8461322949604,...</td>\n",
       "      <td>7.0</td>\n",
       "    </tr>\n",
       "    <tr>\n",
       "      <th>2</th>\n",
       "      <td>984</td>\n",
       "      <td>Aire de jeux</td>\n",
       "      <td>Place Valmy</td>\n",
       "      <td>3,00</td>\n",
       "      <td>12,00</td>\n",
       "      <td>3</td>\n",
       "      <td>-0,594928469747018</td>\n",
       "      <td>44,8228503127685</td>\n",
       "      <td>POLYGON ((-0.594941529427182 44.8227543692787,...</td>\n",
       "      <td>4.0</td>\n",
       "    </tr>\n",
       "    <tr>\n",
       "      <th>3</th>\n",
       "      <td>45881</td>\n",
       "      <td>Aire de jeux</td>\n",
       "      <td>Place Francis de Pressensé</td>\n",
       "      <td>2,00</td>\n",
       "      <td>6,00</td>\n",
       "      <td>4</td>\n",
       "      <td>-0,575308846560817</td>\n",
       "      <td>44,8323190884165</td>\n",
       "      <td>POLYGON ((-0.575379333336975 44.8322868400781,...</td>\n",
       "      <td>6.0</td>\n",
       "    </tr>\n",
       "    <tr>\n",
       "      <th>4</th>\n",
       "      <td>40898</td>\n",
       "      <td>Aire de jeux</td>\n",
       "      <td>Parc de la Cité du Grand Parc_Maryse Bastié</td>\n",
       "      <td>1,00</td>\n",
       "      <td>8,00</td>\n",
       "      <td>4</td>\n",
       "      <td>-0,578084705837757</td>\n",
       "      <td>44,8613135443103</td>\n",
       "      <td>POLYGON ((-0.578157510681416 44.8613037216689,...</td>\n",
       "      <td>2.0</td>\n",
       "    </tr>\n",
       "  </tbody>\n",
       "</table>\n",
       "</div>"
      ],
      "text/plain": [
       "     CLE        NATURE                                          NOM AGE_MIN  \\\n",
       "0    976  Aire de jeux                          Berges du Lac_Plage    1,00   \n",
       "1    978  Aire de jeux                 Place des Droits de l'Enfant    1,00   \n",
       "2    984  Aire de jeux                                  Place Valmy    3,00   \n",
       "3  45881  Aire de jeux                   Place Francis de Pressensé    2,00   \n",
       "4  40898  Aire de jeux  Parc de la Cité du Grand Parc_Maryse Bastié    1,00   \n",
       "\n",
       "  AGE_MAX  NOMBRE_JEUX              X_LONG             Y_LAT  \\\n",
       "0   12,00            2  -0,578932285046847  44,8779825499956   \n",
       "1   12,00           11  -0,564294382315667   44,845843033572   \n",
       "2   12,00            3  -0,594928469747018  44,8228503127685   \n",
       "3    6,00            4  -0,575308846560817  44,8323190884165   \n",
       "4    8,00            4  -0,578084705837757  44,8613135443103   \n",
       "\n",
       "                                           GEOMETRIE  NUM_QUARTIER  \n",
       "0  POLYGON ((-0.578842032917968 44.8779719925657,...           NaN  \n",
       "1  POLYGON ((-0.564636852525033 44.8461322949604,...           7.0  \n",
       "2  POLYGON ((-0.594941529427182 44.8227543692787,...           4.0  \n",
       "3  POLYGON ((-0.575379333336975 44.8322868400781,...           6.0  \n",
       "4  POLYGON ((-0.578157510681416 44.8613037216689,...           2.0  "
      ]
     },
     "execution_count": 25,
     "metadata": {},
     "output_type": "execute_result"
    }
   ],
   "source": [
    "playground.head()"
   ]
  },
  {
   "cell_type": "code",
   "execution_count": 26,
   "metadata": {
    "collapsed": false
   },
   "outputs": [
    {
     "data": {
      "text/html": [
       "<div>\n",
       "<table border=\"1\" class=\"dataframe\">\n",
       "  <thead>\n",
       "    <tr style=\"text-align: right;\">\n",
       "      <th></th>\n",
       "      <th>CLE</th>\n",
       "      <th>NOM_ESPACE_ENTRETIEN</th>\n",
       "      <th>LABEL</th>\n",
       "      <th>TYPE_DE_GESTION_DIFFERENCIEE</th>\n",
       "      <th>TYPOLOGIE_PATRIMOINE</th>\n",
       "      <th>UTILISATION</th>\n",
       "      <th>X_LONG</th>\n",
       "      <th>Y_LAT</th>\n",
       "      <th>GEOMETRIE</th>\n",
       "    </tr>\n",
       "  </thead>\n",
       "  <tbody>\n",
       "    <tr>\n",
       "      <th>0</th>\n",
       "      <td>1336</td>\n",
       "      <td>Parc de la Béchade</td>\n",
       "      <td>Ecojardin - Refuge LPO</td>\n",
       "      <td>Classe 2 : Priorité aux usages récréatifs</td>\n",
       "      <td>Parc, jardin et square</td>\n",
       "      <td>NaN</td>\n",
       "      <td>-0,59848036133239</td>\n",
       "      <td>44,8264628940148</td>\n",
       "      <td>POLYGON ((-0.598700443555036 44.8259224568624,...</td>\n",
       "    </tr>\n",
       "    <tr>\n",
       "      <th>1</th>\n",
       "      <td>1115</td>\n",
       "      <td>Parc aux Angéliques séquence 1</td>\n",
       "      <td>NaN</td>\n",
       "      <td>Classe 2 : Priorité aux usages récréatifs</td>\n",
       "      <td>Parc, jardin et square</td>\n",
       "      <td>NaN</td>\n",
       "      <td>-0,56363500914887</td>\n",
       "      <td>44,8490860371795</td>\n",
       "      <td>POLYGON ((-0.562434498293604 44.8492913637927,...</td>\n",
       "    </tr>\n",
       "    <tr>\n",
       "      <th>2</th>\n",
       "      <td>1119</td>\n",
       "      <td>Jardin de la Mairie</td>\n",
       "      <td>NaN</td>\n",
       "      <td>Classe 2 : Priorité aux usages récréatifs</td>\n",
       "      <td>Parc, jardin et square</td>\n",
       "      <td>NaN</td>\n",
       "      <td>-0,5804615766991</td>\n",
       "      <td>44,8378156427562</td>\n",
       "      <td>POLYGON ((-0.581297929251778 44.8379848693621,...</td>\n",
       "    </tr>\n",
       "    <tr>\n",
       "      <th>3</th>\n",
       "      <td>1117</td>\n",
       "      <td>Parc Chantecrit</td>\n",
       "      <td>NaN</td>\n",
       "      <td>Classe 2 : Priorité aux usages récréatifs</td>\n",
       "      <td>Parc, jardin et square</td>\n",
       "      <td>Promenade, jeux d'enfants, aire multisports</td>\n",
       "      <td>-0,56352782729974</td>\n",
       "      <td>44,8634384524561</td>\n",
       "      <td>POLYGON ((-0.564028129633717 44.8629767229793,...</td>\n",
       "    </tr>\n",
       "    <tr>\n",
       "      <th>4</th>\n",
       "      <td>1161</td>\n",
       "      <td>Parc des Berges de Garonne</td>\n",
       "      <td>Ecojardin - Refuge LPO</td>\n",
       "      <td>Classe 3 : Priorité à la biodiversité</td>\n",
       "      <td>Parc, jardin et square</td>\n",
       "      <td>Promenade</td>\n",
       "      <td>-0,53980293808487</td>\n",
       "      <td>44,8856333789349</td>\n",
       "      <td>POLYGON ((-0.54058132877659 44.8893531139258, ...</td>\n",
       "    </tr>\n",
       "  </tbody>\n",
       "</table>\n",
       "</div>"
      ],
      "text/plain": [
       "    CLE            NOM_ESPACE_ENTRETIEN                   LABEL  \\\n",
       "0  1336              Parc de la Béchade  Ecojardin - Refuge LPO   \n",
       "1  1115  Parc aux Angéliques séquence 1                     NaN   \n",
       "2  1119             Jardin de la Mairie                     NaN   \n",
       "3  1117                 Parc Chantecrit                     NaN   \n",
       "4  1161      Parc des Berges de Garonne  Ecojardin - Refuge LPO   \n",
       "\n",
       "                TYPE_DE_GESTION_DIFFERENCIEE    TYPOLOGIE_PATRIMOINE  \\\n",
       "0  Classe 2 : Priorité aux usages récréatifs  Parc, jardin et square   \n",
       "1  Classe 2 : Priorité aux usages récréatifs  Parc, jardin et square   \n",
       "2  Classe 2 : Priorité aux usages récréatifs  Parc, jardin et square   \n",
       "3  Classe 2 : Priorité aux usages récréatifs  Parc, jardin et square   \n",
       "4      Classe 3 : Priorité à la biodiversité  Parc, jardin et square   \n",
       "\n",
       "                                   UTILISATION             X_LONG  \\\n",
       "0                                          NaN  -0,59848036133239   \n",
       "1                                          NaN  -0,56363500914887   \n",
       "2                                          NaN   -0,5804615766991   \n",
       "3  Promenade, jeux d'enfants, aire multisports  -0,56352782729974   \n",
       "4                                    Promenade  -0,53980293808487   \n",
       "\n",
       "              Y_LAT                                          GEOMETRIE  \n",
       "0  44,8264628940148  POLYGON ((-0.598700443555036 44.8259224568624,...  \n",
       "1  44,8490860371795  POLYGON ((-0.562434498293604 44.8492913637927,...  \n",
       "2  44,8378156427562  POLYGON ((-0.581297929251778 44.8379848693621,...  \n",
       "3  44,8634384524561  POLYGON ((-0.564028129633717 44.8629767229793,...  \n",
       "4  44,8856333789349  POLYGON ((-0.54058132877659 44.8893531139258, ...  "
      ]
     },
     "execution_count": 26,
     "metadata": {},
     "output_type": "execute_result"
    }
   ],
   "source": [
    "park.head()"
   ]
  },
  {
   "cell_type": "markdown",
   "metadata": {},
   "source": [
    "**JSON ??**"
   ]
  },
  {
   "cell_type": "code",
   "execution_count": 30,
   "metadata": {
    "collapsed": false
   },
   "outputs": [],
   "source": [
    "json_playground = 'http://odata.bordeaux.fr/v1/databordeaux/airejeux/?format=json'"
   ]
  },
  {
   "cell_type": "code",
   "execution_count": null,
   "metadata": {
    "collapsed": false,
    "scrolled": false
   },
   "outputs": [],
   "source": [
    "requests.get(json_playground).json()"
   ]
  },
  {
   "cell_type": "code",
   "execution_count": null,
   "metadata": {
    "collapsed": false
   },
   "outputs": [],
   "source": [
    "pd.read_json(json_playground, orient='index')"
   ]
  },
  {
   "cell_type": "code",
   "execution_count": null,
   "metadata": {
    "collapsed": true
   },
   "outputs": [],
   "source": []
  }
 ],
 "metadata": {
  "kernelspec": {
   "display_name": "Python 3",
   "language": "python",
   "name": "python3"
  },
  "language_info": {
   "codemirror_mode": {
    "name": "ipython",
    "version": 3
   },
   "file_extension": ".py",
   "mimetype": "text/x-python",
   "name": "python",
   "nbconvert_exporter": "python",
   "pygments_lexer": "ipython3",
   "version": "3.5.2"
  }
 },
 "nbformat": 4,
 "nbformat_minor": 0
}
