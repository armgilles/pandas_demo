{
 "cells": [
  {
   "cell_type": "markdown",
   "metadata": {},
   "source": [
    "# Pandas Demo"
   ]
  },
  {
   "cell_type": "code",
   "execution_count": 2,
   "metadata": {
    "collapsed": true
   },
   "outputs": [],
   "source": [
    "import requests"
   ]
  },
  {
   "cell_type": "code",
   "execution_count": 3,
   "metadata": {
    "collapsed": true
   },
   "outputs": [],
   "source": [
    "%matplotlib inline\n",
    "import pandas as pd"
   ]
  },
  {
   "cell_type": "code",
   "execution_count": 4,
   "metadata": {
    "collapsed": true
   },
   "outputs": [],
   "source": [
    "import seaborn as sns\n",
    "sns.set_context('talk')"
   ]
  },
  {
   "cell_type": "markdown",
   "metadata": {},
   "source": [
    "## Pandas"
   ]
  },
  {
   "cell_type": "markdown",
   "metadata": {},
   "source": [
    "**{Pan}el {Da}ta Analysis**\n",
    "\n",
    "* Python & Numpy\n",
    "* Performant (cython)\n",
    "* IT Quant / Orienté Finance (initialement)"
   ]
  },
  {
   "cell_type": "markdown",
   "metadata": {},
   "source": [
    "* Fonctionnalités\n",
    "\n",
    "  * données en 1D, 2D et 3D\n",
    "  * lecture/écriture sur CSV, Excel, base de données, hdf5, json, ...\n",
    "  * group-by, merge, join\n",
    "  * séries temporelles & valeurs manquantes"
   ]
  },
  {
   "cell_type": "markdown",
   "metadata": {},
   "source": [
    "* `DataFame`\n",
    "  * tableau 2D : matrice, table SQL, fichier CSV, feuille Excel\n",
    "  * un type de données par colonne : entier, double, chaîne de caractères, date, ..."
   ]
  },
  {
   "cell_type": "markdown",
   "metadata": {},
   "source": [
    "**Plan / Points abordés**\n",
    "\n",
    "* lecture de données\n",
    "* type de données\n",
    "* sélection de données\n",
    "* indicateurs statistiques\n",
    "* appliquer une fonction à une/des colonne(s)\n",
    "* groupby\n",
    "* tracer quelques figures\n",
    "* enchaîner des appels de fonction\n",
    "* séries temporelles"
   ]
  },
  {
   "cell_type": "markdown",
   "metadata": {},
   "source": [
    "**Note** : les données viennent de https://archive.ics.uci.edu/ml/index.html (Machine Learning Repository)"
   ]
  },
  {
   "cell_type": "markdown",
   "metadata": {},
   "source": [
    "## Contraceptive Methods\n",
    "\n",
    "**Data Set Information**:\n",
    "\n",
    "   > This dataset is a subset of the 1987 National Indonesia Contraceptive Prevalence Survey. The samples are married women who were either not pregnant or do not know if they were at the time of interview. The problem is to predict the current contraceptive method choice (no use, long-term methods, or short-term methods) of a woman based on her demographic and socio-economic characteristics.\n",
    "\n",
    "* https://archive.ics.uci.edu/ml/datasets/Contraceptive+Method+Choice\n",
    "* http://archive.ics.uci.edu/ml/machine-learning-databases/cmc/cmc.data"
   ]
  },
  {
   "cell_type": "code",
   "execution_count": 1,
   "metadata": {
    "collapsed": true
   },
   "outputs": [],
   "source": [
    "# Comma Separated Values\n",
    "url = \"http://archive.ics.uci.edu/ml/machine-learning-databases/cmc/cmc.data\""
   ]
  },
  {
   "cell_type": "code",
   "execution_count": 5,
   "metadata": {
    "collapsed": true
   },
   "outputs": [],
   "source": [
    "cmc_names = ['age', 'education', 'husband_education', 'children', 'religion', 'working',\n",
    "             'husband_occupation', 'living_index', 'media', 'method']"
   ]
  },
  {
   "cell_type": "markdown",
   "metadata": {},
   "source": [
    "On peut lire un fichier CSV depuis un fichier **mais aussi depuis une URL**"
   ]
  },
  {
   "cell_type": "code",
   "execution_count": 6,
   "metadata": {
    "collapsed": false
   },
   "outputs": [],
   "source": [
    "df = pd.read_csv(url, names=cmc_names, header=None)"
   ]
  },
  {
   "cell_type": "markdown",
   "metadata": {},
   "source": [
    "Cinq premières lignes du fichier."
   ]
  },
  {
   "cell_type": "code",
   "execution_count": 7,
   "metadata": {
    "collapsed": false
   },
   "outputs": [
    {
     "data": {
      "text/html": [
       "<div>\n",
       "<table border=\"1\" class=\"dataframe\">\n",
       "  <thead>\n",
       "    <tr style=\"text-align: right;\">\n",
       "      <th></th>\n",
       "      <th>age</th>\n",
       "      <th>education</th>\n",
       "      <th>husband_education</th>\n",
       "      <th>children</th>\n",
       "      <th>religion</th>\n",
       "      <th>working</th>\n",
       "      <th>husband_occupation</th>\n",
       "      <th>living_index</th>\n",
       "      <th>media</th>\n",
       "      <th>method</th>\n",
       "    </tr>\n",
       "  </thead>\n",
       "  <tbody>\n",
       "    <tr>\n",
       "      <th>0</th>\n",
       "      <td>24</td>\n",
       "      <td>2</td>\n",
       "      <td>3</td>\n",
       "      <td>3</td>\n",
       "      <td>1</td>\n",
       "      <td>1</td>\n",
       "      <td>2</td>\n",
       "      <td>3</td>\n",
       "      <td>0</td>\n",
       "      <td>1</td>\n",
       "    </tr>\n",
       "    <tr>\n",
       "      <th>1</th>\n",
       "      <td>45</td>\n",
       "      <td>1</td>\n",
       "      <td>3</td>\n",
       "      <td>10</td>\n",
       "      <td>1</td>\n",
       "      <td>1</td>\n",
       "      <td>3</td>\n",
       "      <td>4</td>\n",
       "      <td>0</td>\n",
       "      <td>1</td>\n",
       "    </tr>\n",
       "    <tr>\n",
       "      <th>2</th>\n",
       "      <td>43</td>\n",
       "      <td>2</td>\n",
       "      <td>3</td>\n",
       "      <td>7</td>\n",
       "      <td>1</td>\n",
       "      <td>1</td>\n",
       "      <td>3</td>\n",
       "      <td>4</td>\n",
       "      <td>0</td>\n",
       "      <td>1</td>\n",
       "    </tr>\n",
       "    <tr>\n",
       "      <th>3</th>\n",
       "      <td>42</td>\n",
       "      <td>3</td>\n",
       "      <td>2</td>\n",
       "      <td>9</td>\n",
       "      <td>1</td>\n",
       "      <td>1</td>\n",
       "      <td>3</td>\n",
       "      <td>3</td>\n",
       "      <td>0</td>\n",
       "      <td>1</td>\n",
       "    </tr>\n",
       "    <tr>\n",
       "      <th>4</th>\n",
       "      <td>36</td>\n",
       "      <td>3</td>\n",
       "      <td>3</td>\n",
       "      <td>8</td>\n",
       "      <td>1</td>\n",
       "      <td>1</td>\n",
       "      <td>3</td>\n",
       "      <td>2</td>\n",
       "      <td>0</td>\n",
       "      <td>1</td>\n",
       "    </tr>\n",
       "  </tbody>\n",
       "</table>\n",
       "</div>"
      ],
      "text/plain": [
       "   age  education  husband_education  children  religion  working  \\\n",
       "0   24          2                  3         3         1        1   \n",
       "1   45          1                  3        10         1        1   \n",
       "2   43          2                  3         7         1        1   \n",
       "3   42          3                  2         9         1        1   \n",
       "4   36          3                  3         8         1        1   \n",
       "\n",
       "   husband_occupation  living_index  media  method  \n",
       "0                   2             3      0       1  \n",
       "1                   3             4      0       1  \n",
       "2                   3             4      0       1  \n",
       "3                   3             3      0       1  \n",
       "4                   3             2      0       1  "
      ]
     },
     "execution_count": 7,
     "metadata": {},
     "output_type": "execute_result"
    }
   ],
   "source": [
    "df.head()"
   ]
  },
  {
   "cell_type": "markdown",
   "metadata": {},
   "source": [
    "```\n",
    "Attribute Information:\n",
    "\n",
    "   1. Wife's age                     (numerical)\n",
    "   2. Wife's education               (categorical)      1=low, 2, 3, 4=high\n",
    "   3. Husband's education            (categorical)      1=low, 2, 3, 4=high\n",
    "   4. Number of children ever born   (numerical)\n",
    "   5. Wife's religion                (binary)           0=Non-Islam, 1=Islam\n",
    "   6. Wife's now working?            (binary)           0=Yes, 1=No\n",
    "   7. Husband's occupation           (categorical)      1, 2, 3, 4\n",
    "   8. Standard-of-living index       (categorical)      1=low, 2, 3, 4=high\n",
    "   9. Media exposure                 (binary)           0=Good, 1=Not good\n",
    "   10. Contraceptive method used     (class attribute)  1=No-use \n",
    "                                                        2=Long-term\n",
    "                                                        3=Short-term\n",
    "```"
   ]
  },
  {
   "cell_type": "markdown",
   "metadata": {},
   "source": [
    "Je veux juste une colonne"
   ]
  },
  {
   "cell_type": "code",
   "execution_count": 8,
   "metadata": {
    "collapsed": false
   },
   "outputs": [
    {
     "data": {
      "text/plain": [
       "0    24\n",
       "1    45\n",
       "2    43\n",
       "3    42\n",
       "4    36\n",
       "Name: age, dtype: int64"
      ]
     },
     "execution_count": 8,
     "metadata": {},
     "output_type": "execute_result"
    }
   ],
   "source": [
    "df[\"age\"].head()"
   ]
  },
  {
   "cell_type": "markdown",
   "metadata": {},
   "source": [
    "Je veux sélectionner plusieurs colonnes"
   ]
  },
  {
   "cell_type": "code",
   "execution_count": 9,
   "metadata": {
    "collapsed": false
   },
   "outputs": [
    {
     "data": {
      "text/html": [
       "<div>\n",
       "<table border=\"1\" class=\"dataframe\">\n",
       "  <thead>\n",
       "    <tr style=\"text-align: right;\">\n",
       "      <th></th>\n",
       "      <th>education</th>\n",
       "      <th>children</th>\n",
       "    </tr>\n",
       "  </thead>\n",
       "  <tbody>\n",
       "    <tr>\n",
       "      <th>0</th>\n",
       "      <td>2</td>\n",
       "      <td>3</td>\n",
       "    </tr>\n",
       "    <tr>\n",
       "      <th>1</th>\n",
       "      <td>1</td>\n",
       "      <td>10</td>\n",
       "    </tr>\n",
       "    <tr>\n",
       "      <th>2</th>\n",
       "      <td>2</td>\n",
       "      <td>7</td>\n",
       "    </tr>\n",
       "    <tr>\n",
       "      <th>3</th>\n",
       "      <td>3</td>\n",
       "      <td>9</td>\n",
       "    </tr>\n",
       "    <tr>\n",
       "      <th>4</th>\n",
       "      <td>3</td>\n",
       "      <td>8</td>\n",
       "    </tr>\n",
       "  </tbody>\n",
       "</table>\n",
       "</div>"
      ],
      "text/plain": [
       "   education  children\n",
       "0          2         3\n",
       "1          1        10\n",
       "2          2         7\n",
       "3          3         9\n",
       "4          3         8"
      ]
     },
     "execution_count": 9,
     "metadata": {},
     "output_type": "execute_result"
    }
   ],
   "source": [
    "df[['education', 'children']].head()"
   ]
  },
  {
   "cell_type": "code",
   "execution_count": 10,
   "metadata": {
    "collapsed": false
   },
   "outputs": [
    {
     "name": "stdout",
     "output_type": "stream",
     "text": [
      "<class 'pandas.core.frame.DataFrame'>\n",
      "RangeIndex: 1473 entries, 0 to 1472\n",
      "Data columns (total 10 columns):\n",
      "age                   1473 non-null int64\n",
      "education             1473 non-null int64\n",
      "husband_education     1473 non-null int64\n",
      "children              1473 non-null int64\n",
      "religion              1473 non-null int64\n",
      "working               1473 non-null int64\n",
      "husband_occupation    1473 non-null int64\n",
      "living_index          1473 non-null int64\n",
      "media                 1473 non-null int64\n",
      "method                1473 non-null int64\n",
      "dtypes: int64(10)\n",
      "memory usage: 115.2 KB\n"
     ]
    }
   ],
   "source": [
    "df.info()"
   ]
  },
  {
   "cell_type": "code",
   "execution_count": 11,
   "metadata": {
    "collapsed": false
   },
   "outputs": [
    {
     "data": {
      "text/html": [
       "<div>\n",
       "<table border=\"1\" class=\"dataframe\">\n",
       "  <thead>\n",
       "    <tr style=\"text-align: right;\">\n",
       "      <th></th>\n",
       "      <th>age</th>\n",
       "      <th>education</th>\n",
       "      <th>husband_education</th>\n",
       "      <th>children</th>\n",
       "      <th>religion</th>\n",
       "      <th>working</th>\n",
       "      <th>husband_occupation</th>\n",
       "      <th>living_index</th>\n",
       "      <th>media</th>\n",
       "      <th>method</th>\n",
       "    </tr>\n",
       "  </thead>\n",
       "  <tbody>\n",
       "    <tr>\n",
       "      <th>count</th>\n",
       "      <td>1473.000000</td>\n",
       "      <td>1473.000000</td>\n",
       "      <td>1473.000000</td>\n",
       "      <td>1473.000000</td>\n",
       "      <td>1473.000000</td>\n",
       "      <td>1473.000000</td>\n",
       "      <td>1473.000000</td>\n",
       "      <td>1473.000000</td>\n",
       "      <td>1473.000000</td>\n",
       "      <td>1473.000000</td>\n",
       "    </tr>\n",
       "    <tr>\n",
       "      <th>mean</th>\n",
       "      <td>32.538357</td>\n",
       "      <td>2.958588</td>\n",
       "      <td>3.429735</td>\n",
       "      <td>3.261371</td>\n",
       "      <td>0.850645</td>\n",
       "      <td>0.749491</td>\n",
       "      <td>2.137814</td>\n",
       "      <td>3.133741</td>\n",
       "      <td>0.073999</td>\n",
       "      <td>1.919891</td>\n",
       "    </tr>\n",
       "    <tr>\n",
       "      <th>std</th>\n",
       "      <td>8.227245</td>\n",
       "      <td>1.014994</td>\n",
       "      <td>0.816349</td>\n",
       "      <td>2.358549</td>\n",
       "      <td>0.356559</td>\n",
       "      <td>0.433453</td>\n",
       "      <td>0.864857</td>\n",
       "      <td>0.976161</td>\n",
       "      <td>0.261858</td>\n",
       "      <td>0.876376</td>\n",
       "    </tr>\n",
       "    <tr>\n",
       "      <th>min</th>\n",
       "      <td>16.000000</td>\n",
       "      <td>1.000000</td>\n",
       "      <td>1.000000</td>\n",
       "      <td>0.000000</td>\n",
       "      <td>0.000000</td>\n",
       "      <td>0.000000</td>\n",
       "      <td>1.000000</td>\n",
       "      <td>1.000000</td>\n",
       "      <td>0.000000</td>\n",
       "      <td>1.000000</td>\n",
       "    </tr>\n",
       "    <tr>\n",
       "      <th>25%</th>\n",
       "      <td>26.000000</td>\n",
       "      <td>2.000000</td>\n",
       "      <td>3.000000</td>\n",
       "      <td>1.000000</td>\n",
       "      <td>1.000000</td>\n",
       "      <td>0.000000</td>\n",
       "      <td>1.000000</td>\n",
       "      <td>3.000000</td>\n",
       "      <td>0.000000</td>\n",
       "      <td>1.000000</td>\n",
       "    </tr>\n",
       "    <tr>\n",
       "      <th>50%</th>\n",
       "      <td>32.000000</td>\n",
       "      <td>3.000000</td>\n",
       "      <td>4.000000</td>\n",
       "      <td>3.000000</td>\n",
       "      <td>1.000000</td>\n",
       "      <td>1.000000</td>\n",
       "      <td>2.000000</td>\n",
       "      <td>3.000000</td>\n",
       "      <td>0.000000</td>\n",
       "      <td>2.000000</td>\n",
       "    </tr>\n",
       "    <tr>\n",
       "      <th>75%</th>\n",
       "      <td>39.000000</td>\n",
       "      <td>4.000000</td>\n",
       "      <td>4.000000</td>\n",
       "      <td>4.000000</td>\n",
       "      <td>1.000000</td>\n",
       "      <td>1.000000</td>\n",
       "      <td>3.000000</td>\n",
       "      <td>4.000000</td>\n",
       "      <td>0.000000</td>\n",
       "      <td>3.000000</td>\n",
       "    </tr>\n",
       "    <tr>\n",
       "      <th>max</th>\n",
       "      <td>49.000000</td>\n",
       "      <td>4.000000</td>\n",
       "      <td>4.000000</td>\n",
       "      <td>16.000000</td>\n",
       "      <td>1.000000</td>\n",
       "      <td>1.000000</td>\n",
       "      <td>4.000000</td>\n",
       "      <td>4.000000</td>\n",
       "      <td>1.000000</td>\n",
       "      <td>3.000000</td>\n",
       "    </tr>\n",
       "  </tbody>\n",
       "</table>\n",
       "</div>"
      ],
      "text/plain": [
       "               age    education  husband_education     children     religion  \\\n",
       "count  1473.000000  1473.000000        1473.000000  1473.000000  1473.000000   \n",
       "mean     32.538357     2.958588           3.429735     3.261371     0.850645   \n",
       "std       8.227245     1.014994           0.816349     2.358549     0.356559   \n",
       "min      16.000000     1.000000           1.000000     0.000000     0.000000   \n",
       "25%      26.000000     2.000000           3.000000     1.000000     1.000000   \n",
       "50%      32.000000     3.000000           4.000000     3.000000     1.000000   \n",
       "75%      39.000000     4.000000           4.000000     4.000000     1.000000   \n",
       "max      49.000000     4.000000           4.000000    16.000000     1.000000   \n",
       "\n",
       "           working  husband_occupation  living_index        media       method  \n",
       "count  1473.000000         1473.000000   1473.000000  1473.000000  1473.000000  \n",
       "mean      0.749491            2.137814      3.133741     0.073999     1.919891  \n",
       "std       0.433453            0.864857      0.976161     0.261858     0.876376  \n",
       "min       0.000000            1.000000      1.000000     0.000000     1.000000  \n",
       "25%       0.000000            1.000000      3.000000     0.000000     1.000000  \n",
       "50%       1.000000            2.000000      3.000000     0.000000     2.000000  \n",
       "75%       1.000000            3.000000      4.000000     0.000000     3.000000  \n",
       "max       1.000000            4.000000      4.000000     1.000000     3.000000  "
      ]
     },
     "execution_count": 11,
     "metadata": {},
     "output_type": "execute_result"
    }
   ],
   "source": [
    "df.describe()"
   ]
  },
  {
   "cell_type": "markdown",
   "metadata": {},
   "source": [
    "**Combien de valeurs uniques par colonne ?**"
   ]
  },
  {
   "cell_type": "code",
   "execution_count": 12,
   "metadata": {
    "collapsed": false
   },
   "outputs": [
    {
     "data": {
      "text/plain": [
       "age                   34\n",
       "education              4\n",
       "husband_education      4\n",
       "children              15\n",
       "religion               2\n",
       "working                2\n",
       "husband_occupation     4\n",
       "living_index           4\n",
       "media                  2\n",
       "method                 3\n",
       "dtype: int64"
      ]
     },
     "execution_count": 12,
     "metadata": {},
     "output_type": "execute_result"
    }
   ],
   "source": [
    "df.apply(lambda x: x.nunique())"
   ]
  },
  {
   "cell_type": "markdown",
   "metadata": {},
   "source": [
    "**L'âge et le nombre d'enfants par méthode contraceptive**\n",
    "\n",
    "Présentation du `group-by`."
   ]
  },
  {
   "cell_type": "code",
   "execution_count": 13,
   "metadata": {
    "collapsed": false
   },
   "outputs": [
    {
     "data": {
      "text/html": [
       "<div>\n",
       "<table border=\"1\" class=\"dataframe\">\n",
       "  <thead>\n",
       "    <tr style=\"text-align: right;\">\n",
       "      <th></th>\n",
       "      <th>age</th>\n",
       "      <th>children</th>\n",
       "    </tr>\n",
       "    <tr>\n",
       "      <th>method</th>\n",
       "      <th></th>\n",
       "      <th></th>\n",
       "    </tr>\n",
       "  </thead>\n",
       "  <tbody>\n",
       "    <tr>\n",
       "      <th>1</th>\n",
       "      <td>33.424483</td>\n",
       "      <td>2.934817</td>\n",
       "    </tr>\n",
       "    <tr>\n",
       "      <th>2</th>\n",
       "      <td>34.384384</td>\n",
       "      <td>3.738739</td>\n",
       "    </tr>\n",
       "    <tr>\n",
       "      <th>3</th>\n",
       "      <td>30.244618</td>\n",
       "      <td>3.352250</td>\n",
       "    </tr>\n",
       "  </tbody>\n",
       "</table>\n",
       "</div>"
      ],
      "text/plain": [
       "              age  children\n",
       "method                     \n",
       "1       33.424483  2.934817\n",
       "2       34.384384  3.738739\n",
       "3       30.244618  3.352250"
      ]
     },
     "execution_count": 13,
     "metadata": {},
     "output_type": "execute_result"
    }
   ],
   "source": [
    "df.groupby('method')[['age', 'children']].mean()"
   ]
  },
  {
   "cell_type": "markdown",
   "metadata": {},
   "source": [
    "**Corrélation** entre les données"
   ]
  },
  {
   "cell_type": "code",
   "execution_count": 14,
   "metadata": {
    "collapsed": false
   },
   "outputs": [
    {
     "data": {
      "text/plain": [
       "<matplotlib.axes._subplots.AxesSubplot at 0x7f9687d8f390>"
      ]
     },
     "execution_count": 14,
     "metadata": {},
     "output_type": "execute_result"
    },
    {
     "data": {
      "image/png": "[encoded data removed]",
      "text/plain": [
       "<matplotlib.figure.Figure at 0x7f968843c0b8>"
      ]
     },
     "metadata": {},
     "output_type": "display_data"
    }
   ],
   "source": [
    "sns.heatmap(df.corr(), square=True, annot=True, fmt=\".1f\")"
   ]
  },
  {
   "cell_type": "markdown",
   "metadata": {},
   "source": [
    "Un peu de **prédiction** ??"
   ]
  },
  {
   "cell_type": "code",
   "execution_count": 15,
   "metadata": {
    "collapsed": true
   },
   "outputs": [],
   "source": [
    "from sklearn.preprocessing import StandardScaler\n",
    "from sklearn import cross_validation\n",
    "from sklearn.linear_model import LogisticRegression"
   ]
  },
  {
   "cell_type": "markdown",
   "metadata": {},
   "source": [
    "On prend d'un côté les *features* et de l'autre la valeur à prédire (i.e. `method`)"
   ]
  },
  {
   "cell_type": "code",
   "execution_count": 16,
   "metadata": {
    "collapsed": false
   },
   "outputs": [],
   "source": [
    "X = df.drop('method', axis=1).values"
   ]
  },
  {
   "cell_type": "code",
   "execution_count": 17,
   "metadata": {
    "collapsed": true
   },
   "outputs": [],
   "source": [
    "y = df['method'].values"
   ]
  },
  {
   "cell_type": "code",
   "execution_count": 18,
   "metadata": {
    "collapsed": true
   },
   "outputs": [],
   "source": [
    "X_train, X_test, y_train, y_test = cross_validation.train_test_split(X, y, random_state=6)"
   ]
  },
  {
   "cell_type": "code",
   "execution_count": 19,
   "metadata": {
    "collapsed": true
   },
   "outputs": [],
   "source": [
    "logit = LogisticRegression()"
   ]
  },
  {
   "cell_type": "code",
   "execution_count": 20,
   "metadata": {
    "collapsed": false
   },
   "outputs": [
    {
     "data": {
      "text/plain": [
       "LogisticRegression(C=1.0, class_weight=None, dual=False, fit_intercept=True,\n",
       "          intercept_scaling=1, max_iter=100, multi_class='ovr', n_jobs=1,\n",
       "          penalty='l2', random_state=None, solver='liblinear', tol=0.0001,\n",
       "          verbose=0, warm_start=False)"
      ]
     },
     "execution_count": 20,
     "metadata": {},
     "output_type": "execute_result"
    }
   ],
   "source": [
    "logit.fit(X_train, y_train)"
   ]
  },
  {
   "cell_type": "code",
   "execution_count": 21,
   "metadata": {
    "collapsed": false
   },
   "outputs": [
    {
     "data": {
      "text/plain": [
       "array([1, 2, 1, 1, 2, 3, 2, 3, 1, 1, 3, 2, 3, 1, 2, 1, 3, 3, 1, 2, 1, 3, 3,\n",
       "       1, 1, 1, 1, 3, 1, 2, 3, 2, 1, 1, 1, 2, 1, 3, 3, 1, 2, 2, 1, 1, 2, 3,\n",
       "       1, 2, 1, 1, 1, 3, 2, 3, 1, 3, 1, 1, 1, 3, 3, 1, 3, 3, 3, 1, 2, 1, 1,\n",
       "       3, 1, 3, 1, 1, 3, 2, 1, 1, 1, 1, 1, 2, 3, 2, 1, 1, 1, 3, 1, 3, 1, 1,\n",
       "       3, 2, 1, 2, 3, 1, 1, 2, 1, 1, 1, 2, 2, 3, 3, 2, 1, 3, 3, 3, 1, 1, 1,\n",
       "       3, 2, 1, 1, 3, 1, 3, 1, 1, 1, 3, 3, 1, 1, 3, 2, 2, 1, 2, 3, 3, 2, 2,\n",
       "       1, 3, 1, 1, 1, 3, 3, 1, 1, 1, 1, 1, 1, 3, 1, 1, 2, 1, 3, 2, 3, 2, 1,\n",
       "       2, 3, 2, 2, 3, 1, 3, 3, 3, 3, 1, 1, 2, 1, 1, 1, 1, 1, 3, 2, 1, 1, 3,\n",
       "       1, 3, 2, 1, 1, 1, 1, 3, 3, 1, 1, 3, 3, 3, 1, 3, 3, 2, 3, 3, 1, 2, 3,\n",
       "       2, 3, 3, 3, 1, 1, 1, 3, 1, 1, 1, 1, 1, 3, 1, 1, 1, 1, 1, 3, 3, 1, 2,\n",
       "       2, 2, 3, 1, 2, 1, 1, 1, 1, 3, 1, 2, 2, 1, 1, 1, 1, 3, 3, 1, 1, 1, 3,\n",
       "       1, 1, 3, 3, 1, 3, 1, 3, 1, 3, 2, 2, 1, 2, 1, 1, 1, 3, 1, 3, 1, 3, 3,\n",
       "       3, 1, 3, 3, 1, 2, 1, 3, 3, 1, 1, 3, 1, 1, 3, 2, 2, 1, 3, 1, 1, 1, 3,\n",
       "       1, 1, 2, 2, 1, 3, 3, 1, 1, 1, 3, 3, 2, 1, 1, 1, 1, 3, 3, 1, 3, 2, 2,\n",
       "       3, 3, 1, 3, 1, 1, 3, 3, 2, 3, 1, 3, 2, 3, 1, 2, 2, 1, 1, 2, 1, 3, 1,\n",
       "       1, 1, 3, 2, 3, 3, 1, 1, 2, 3, 3, 3, 3, 1, 3, 3, 2, 2, 3, 3, 3, 3, 3,\n",
       "       3])"
      ]
     },
     "execution_count": 21,
     "metadata": {},
     "output_type": "execute_result"
    }
   ],
   "source": [
    "logit.predict(X_test)"
   ]
  },
  {
   "cell_type": "code",
   "execution_count": 22,
   "metadata": {
    "collapsed": false
   },
   "outputs": [
    {
     "data": {
      "text/plain": [
       "0.50677506775067749"
      ]
     },
     "execution_count": 22,
     "metadata": {},
     "output_type": "execute_result"
    }
   ],
   "source": [
    "logit.score(X_test, y_test)"
   ]
  },
  {
   "cell_type": "markdown",
   "metadata": {},
   "source": [
    "column no. 1, 2 ,6, 7 are categorical\n",
    "\n",
    "* education\n",
    "* husband's education\n",
    "* husband's occupation\n",
    "* standard-of-living\n",
    "\n",
    "try to turn them into categorical data (i.e. more than 2 columns with 0 or 1)"
   ]
  },
  {
   "cell_type": "code",
   "execution_count": 91,
   "metadata": {
    "collapsed": false
   },
   "outputs": [],
   "source": [
    "df_2 = df.drop(['education', 'husband_education', 'husband_occupation', 'living_index'], axis=1)\n",
    "df_2 = pd.concat([df_2, pd.get_dummies(df['education'], prefix='educ', drop_first=True),\n",
    "                 pd.get_dummies(df['husband_education'], prefix='h_educ', drop_first=True),\n",
    "                 pd.get_dummies(df['husband_occupation'], prefix='h_occ', drop_first=True),\n",
    "                 pd.get_dummies(df['living_index'], prefix='l_idx', drop_first=True)], axis=1)"
   ]
  },
  {
   "cell_type": "code",
   "execution_count": 92,
   "metadata": {
    "collapsed": false
   },
   "outputs": [
    {
     "data": {
      "text/html": [
       "<div>\n",
       "<table border=\"1\" class=\"dataframe\">\n",
       "  <thead>\n",
       "    <tr style=\"text-align: right;\">\n",
       "      <th></th>\n",
       "      <th>age</th>\n",
       "      <th>children</th>\n",
       "      <th>religion</th>\n",
       "      <th>working</th>\n",
       "      <th>media</th>\n",
       "      <th>method</th>\n",
       "      <th>educ_2</th>\n",
       "      <th>educ_3</th>\n",
       "      <th>educ_4</th>\n",
       "      <th>h_educ_2</th>\n",
       "      <th>h_educ_3</th>\n",
       "      <th>h_educ_4</th>\n",
       "      <th>h_occ_2</th>\n",
       "      <th>h_occ_3</th>\n",
       "      <th>h_occ_4</th>\n",
       "      <th>l_idx_2</th>\n",
       "      <th>l_idx_3</th>\n",
       "      <th>l_idx_4</th>\n",
       "    </tr>\n",
       "  </thead>\n",
       "  <tbody>\n",
       "    <tr>\n",
       "      <th>0</th>\n",
       "      <td>24</td>\n",
       "      <td>3</td>\n",
       "      <td>1</td>\n",
       "      <td>1</td>\n",
       "      <td>0</td>\n",
       "      <td>1</td>\n",
       "      <td>1.0</td>\n",
       "      <td>0.0</td>\n",
       "      <td>0.0</td>\n",
       "      <td>0.0</td>\n",
       "      <td>1.0</td>\n",
       "      <td>0.0</td>\n",
       "      <td>1.0</td>\n",
       "      <td>0.0</td>\n",
       "      <td>0.0</td>\n",
       "      <td>0.0</td>\n",
       "      <td>1.0</td>\n",
       "      <td>0.0</td>\n",
       "    </tr>\n",
       "    <tr>\n",
       "      <th>1</th>\n",
       "      <td>45</td>\n",
       "      <td>10</td>\n",
       "      <td>1</td>\n",
       "      <td>1</td>\n",
       "      <td>0</td>\n",
       "      <td>1</td>\n",
       "      <td>0.0</td>\n",
       "      <td>0.0</td>\n",
       "      <td>0.0</td>\n",
       "      <td>0.0</td>\n",
       "      <td>1.0</td>\n",
       "      <td>0.0</td>\n",
       "      <td>0.0</td>\n",
       "      <td>1.0</td>\n",
       "      <td>0.0</td>\n",
       "      <td>0.0</td>\n",
       "      <td>0.0</td>\n",
       "      <td>1.0</td>\n",
       "    </tr>\n",
       "    <tr>\n",
       "      <th>2</th>\n",
       "      <td>43</td>\n",
       "      <td>7</td>\n",
       "      <td>1</td>\n",
       "      <td>1</td>\n",
       "      <td>0</td>\n",
       "      <td>1</td>\n",
       "      <td>1.0</td>\n",
       "      <td>0.0</td>\n",
       "      <td>0.0</td>\n",
       "      <td>0.0</td>\n",
       "      <td>1.0</td>\n",
       "      <td>0.0</td>\n",
       "      <td>0.0</td>\n",
       "      <td>1.0</td>\n",
       "      <td>0.0</td>\n",
       "      <td>0.0</td>\n",
       "      <td>0.0</td>\n",
       "      <td>1.0</td>\n",
       "    </tr>\n",
       "    <tr>\n",
       "      <th>3</th>\n",
       "      <td>42</td>\n",
       "      <td>9</td>\n",
       "      <td>1</td>\n",
       "      <td>1</td>\n",
       "      <td>0</td>\n",
       "      <td>1</td>\n",
       "      <td>0.0</td>\n",
       "      <td>1.0</td>\n",
       "      <td>0.0</td>\n",
       "      <td>1.0</td>\n",
       "      <td>0.0</td>\n",
       "      <td>0.0</td>\n",
       "      <td>0.0</td>\n",
       "      <td>1.0</td>\n",
       "      <td>0.0</td>\n",
       "      <td>0.0</td>\n",
       "      <td>1.0</td>\n",
       "      <td>0.0</td>\n",
       "    </tr>\n",
       "    <tr>\n",
       "      <th>4</th>\n",
       "      <td>36</td>\n",
       "      <td>8</td>\n",
       "      <td>1</td>\n",
       "      <td>1</td>\n",
       "      <td>0</td>\n",
       "      <td>1</td>\n",
       "      <td>0.0</td>\n",
       "      <td>1.0</td>\n",
       "      <td>0.0</td>\n",
       "      <td>0.0</td>\n",
       "      <td>1.0</td>\n",
       "      <td>0.0</td>\n",
       "      <td>0.0</td>\n",
       "      <td>1.0</td>\n",
       "      <td>0.0</td>\n",
       "      <td>1.0</td>\n",
       "      <td>0.0</td>\n",
       "      <td>0.0</td>\n",
       "    </tr>\n",
       "  </tbody>\n",
       "</table>\n",
       "</div>"
      ],
      "text/plain": [
       "   age  children  religion  working  media  method  educ_2  educ_3  educ_4  \\\n",
       "0   24         3         1        1      0       1     1.0     0.0     0.0   \n",
       "1   45        10         1        1      0       1     0.0     0.0     0.0   \n",
       "2   43         7         1        1      0       1     1.0     0.0     0.0   \n",
       "3   42         9         1        1      0       1     0.0     1.0     0.0   \n",
       "4   36         8         1        1      0       1     0.0     1.0     0.0   \n",
       "\n",
       "   h_educ_2  h_educ_3  h_educ_4  h_occ_2  h_occ_3  h_occ_4  l_idx_2  l_idx_3  \\\n",
       "0       0.0       1.0       0.0      1.0      0.0      0.0      0.0      1.0   \n",
       "1       0.0       1.0       0.0      0.0      1.0      0.0      0.0      0.0   \n",
       "2       0.0       1.0       0.0      0.0      1.0      0.0      0.0      0.0   \n",
       "3       1.0       0.0       0.0      0.0      1.0      0.0      0.0      1.0   \n",
       "4       0.0       1.0       0.0      0.0      1.0      0.0      1.0      0.0   \n",
       "\n",
       "   l_idx_4  \n",
       "0      0.0  \n",
       "1      1.0  \n",
       "2      1.0  \n",
       "3      0.0  \n",
       "4      0.0  "
      ]
     },
     "execution_count": 92,
     "metadata": {},
     "output_type": "execute_result"
    }
   ],
   "source": [
    "df_2.head()"
   ]
  },
  {
   "cell_type": "code",
   "execution_count": 93,
   "metadata": {
    "collapsed": true
   },
   "outputs": [],
   "source": [
    "X_2 = df_2.drop('method', axis=1).values"
   ]
  },
  {
   "cell_type": "code",
   "execution_count": 94,
   "metadata": {
    "collapsed": true
   },
   "outputs": [],
   "source": [
    "y_2 = df_2['method'].values"
   ]
  },
  {
   "cell_type": "code",
   "execution_count": 95,
   "metadata": {
    "collapsed": true
   },
   "outputs": [],
   "source": [
    "X2_train, X2_test, y2_train, y2_test = cross_validation.train_test_split(X_2, y_2, random_state=6)"
   ]
  },
  {
   "cell_type": "code",
   "execution_count": 96,
   "metadata": {
    "collapsed": false
   },
   "outputs": [
    {
     "data": {
      "text/plain": [
       "0.48509485094850946"
      ]
     },
     "execution_count": 96,
     "metadata": {},
     "output_type": "execute_result"
    }
   ],
   "source": [
    "logit.fit(X2_train, y2_train)\n",
    "logit.score(X2_test, y2_test)"
   ]
  },
  {
   "cell_type": "markdown",
   "metadata": {},
   "source": [
    "## Flow People Count\n",
    "\n",
    "**Data Set Information**:\n",
    "\n",
    "   > Observations come from 2 data streams (people flow in and out of the building), over 15 weeks, 48 time slices per day (half hour count aggregates).\n",
    "\n",
    "   > The purpose is to predict the presence of an event such as a conference in the building that is reflected by unusually high people counts for that day/time period. "
   ]
  },
  {
   "cell_type": "markdown",
   "metadata": {},
   "source": [
    "**Idées**\n",
    "\n",
    "* changer le 7 et 9 en in & out\n",
    "* bien convertir les dates & time en datetime\n",
    "* les mettre en index\n",
    "* tracer les courbes entrant, sortant\n",
    "* faire du sample\n",
    "* faire du rolling\n",
    "* faire de l'interpolation ?"
   ]
  },
  {
   "cell_type": "code",
   "execution_count": 23,
   "metadata": {
    "collapsed": true
   },
   "outputs": [],
   "source": [
    "flow_names = [\"flow_id\", \"date\", \"time\", \"count\"]"
   ]
  },
  {
   "cell_type": "code",
   "execution_count": 24,
   "metadata": {
    "collapsed": false
   },
   "outputs": [],
   "source": [
    "flow = pd.read_csv(\"http://archive.ics.uci.edu/ml/machine-learning-databases/event-detection/CalIt2.data\",\n",
    "                  names=flow_names, header=0)"
   ]
  },
  {
   "cell_type": "code",
   "execution_count": 25,
   "metadata": {
    "collapsed": false
   },
   "outputs": [
    {
     "data": {
      "text/html": [
       "<div>\n",
       "<table border=\"1\" class=\"dataframe\">\n",
       "  <thead>\n",
       "    <tr style=\"text-align: right;\">\n",
       "      <th></th>\n",
       "      <th>flow_id</th>\n",
       "      <th>date</th>\n",
       "      <th>time</th>\n",
       "      <th>count</th>\n",
       "    </tr>\n",
       "  </thead>\n",
       "  <tbody>\n",
       "    <tr>\n",
       "      <th>0</th>\n",
       "      <td>9</td>\n",
       "      <td>07/24/05</td>\n",
       "      <td>00:00:00</td>\n",
       "      <td>0</td>\n",
       "    </tr>\n",
       "    <tr>\n",
       "      <th>1</th>\n",
       "      <td>7</td>\n",
       "      <td>07/24/05</td>\n",
       "      <td>00:30:00</td>\n",
       "      <td>1</td>\n",
       "    </tr>\n",
       "    <tr>\n",
       "      <th>2</th>\n",
       "      <td>9</td>\n",
       "      <td>07/24/05</td>\n",
       "      <td>00:30:00</td>\n",
       "      <td>0</td>\n",
       "    </tr>\n",
       "    <tr>\n",
       "      <th>3</th>\n",
       "      <td>7</td>\n",
       "      <td>07/24/05</td>\n",
       "      <td>01:00:00</td>\n",
       "      <td>0</td>\n",
       "    </tr>\n",
       "    <tr>\n",
       "      <th>4</th>\n",
       "      <td>9</td>\n",
       "      <td>07/24/05</td>\n",
       "      <td>01:00:00</td>\n",
       "      <td>0</td>\n",
       "    </tr>\n",
       "  </tbody>\n",
       "</table>\n",
       "</div>"
      ],
      "text/plain": [
       "   flow_id      date      time  count\n",
       "0        9  07/24/05  00:00:00      0\n",
       "1        7  07/24/05  00:30:00      1\n",
       "2        9  07/24/05  00:30:00      0\n",
       "3        7  07/24/05  01:00:00      0\n",
       "4        9  07/24/05  01:00:00      0"
      ]
     },
     "execution_count": 25,
     "metadata": {},
     "output_type": "execute_result"
    }
   ],
   "source": [
    "flow.head()"
   ]
  },
  {
   "cell_type": "code",
   "execution_count": 26,
   "metadata": {
    "collapsed": false
   },
   "outputs": [
    {
     "name": "stdout",
     "output_type": "stream",
     "text": [
      "<class 'pandas.core.frame.DataFrame'>\n",
      "RangeIndex: 10079 entries, 0 to 10078\n",
      "Data columns (total 4 columns):\n",
      "flow_id    10079 non-null int64\n",
      "date       10079 non-null object\n",
      "time       10079 non-null object\n",
      "count      10079 non-null int64\n",
      "dtypes: int64(2), object(2)\n",
      "memory usage: 315.0+ KB\n"
     ]
    }
   ],
   "source": [
    "flow.info()"
   ]
  },
  {
   "cell_type": "markdown",
   "metadata": {},
   "source": [
    "On va travailler un peu la donnée :\n",
    "\n",
    "* `flow_id` : 7 pour une personne qui sort, 9 pour entre\n",
    "* deux colonnes date & timestamp : ne faire qu'une date"
   ]
  },
  {
   "cell_type": "markdown",
   "metadata": {},
   "source": [
    "### Flow ID"
   ]
  },
  {
   "cell_type": "code",
   "execution_count": 29,
   "metadata": {
    "collapsed": true
   },
   "outputs": [],
   "source": [
    "flow['out'] = flow['flow_id'].apply(lambda x: x == 7)"
   ]
  },
  {
   "cell_type": "code",
   "execution_count": 30,
   "metadata": {
    "collapsed": false
   },
   "outputs": [
    {
     "data": {
      "text/html": [
       "<div>\n",
       "<table border=\"1\" class=\"dataframe\">\n",
       "  <thead>\n",
       "    <tr style=\"text-align: right;\">\n",
       "      <th></th>\n",
       "      <th>flow_id</th>\n",
       "      <th>date</th>\n",
       "      <th>time</th>\n",
       "      <th>count</th>\n",
       "      <th>out</th>\n",
       "    </tr>\n",
       "  </thead>\n",
       "  <tbody>\n",
       "    <tr>\n",
       "      <th>0</th>\n",
       "      <td>9</td>\n",
       "      <td>07/24/05</td>\n",
       "      <td>00:00:00</td>\n",
       "      <td>0</td>\n",
       "      <td>False</td>\n",
       "    </tr>\n",
       "    <tr>\n",
       "      <th>1</th>\n",
       "      <td>7</td>\n",
       "      <td>07/24/05</td>\n",
       "      <td>00:30:00</td>\n",
       "      <td>1</td>\n",
       "      <td>True</td>\n",
       "    </tr>\n",
       "    <tr>\n",
       "      <th>2</th>\n",
       "      <td>9</td>\n",
       "      <td>07/24/05</td>\n",
       "      <td>00:30:00</td>\n",
       "      <td>0</td>\n",
       "      <td>False</td>\n",
       "    </tr>\n",
       "    <tr>\n",
       "      <th>3</th>\n",
       "      <td>7</td>\n",
       "      <td>07/24/05</td>\n",
       "      <td>01:00:00</td>\n",
       "      <td>0</td>\n",
       "      <td>True</td>\n",
       "    </tr>\n",
       "    <tr>\n",
       "      <th>4</th>\n",
       "      <td>9</td>\n",
       "      <td>07/24/05</td>\n",
       "      <td>01:00:00</td>\n",
       "      <td>0</td>\n",
       "      <td>False</td>\n",
       "    </tr>\n",
       "  </tbody>\n",
       "</table>\n",
       "</div>"
      ],
      "text/plain": [
       "   flow_id      date      time  count    out\n",
       "0        9  07/24/05  00:00:00      0  False\n",
       "1        7  07/24/05  00:30:00      1   True\n",
       "2        9  07/24/05  00:30:00      0  False\n",
       "3        7  07/24/05  01:00:00      0   True\n",
       "4        9  07/24/05  01:00:00      0  False"
      ]
     },
     "execution_count": 30,
     "metadata": {},
     "output_type": "execute_result"
    }
   ],
   "source": [
    "flow.head()"
   ]
  },
  {
   "cell_type": "markdown",
   "metadata": {},
   "source": [
    "### Date & Timestamp"
   ]
  },
  {
   "cell_type": "markdown",
   "metadata": {},
   "source": [
    "* Qu'est-ce que sont les colonnes `date` et `time` ?\n",
    "* Comment convertir en \"vrai\" date ?"
   ]
  },
  {
   "cell_type": "code",
   "execution_count": 36,
   "metadata": {
    "collapsed": false
   },
   "outputs": [
    {
     "data": {
      "text/plain": [
       "('07/24/05', '00:00:00')"
      ]
     },
     "execution_count": 36,
     "metadata": {},
     "output_type": "execute_result"
    }
   ],
   "source": [
    "flow.iloc[0].date, flow.iloc[0].time"
   ]
  },
  {
   "cell_type": "code",
   "execution_count": 37,
   "metadata": {
    "collapsed": false
   },
   "outputs": [
    {
     "data": {
      "text/plain": [
       "'07/24/05T00:00:00'"
      ]
     },
     "execution_count": 37,
     "metadata": {},
     "output_type": "execute_result"
    }
   ],
   "source": [
    "d, t = flow.iloc[0].date, flow.iloc[0].time\n",
    "d + \"T\" + t"
   ]
  },
  {
   "cell_type": "code",
   "execution_count": 38,
   "metadata": {
    "collapsed": false
   },
   "outputs": [
    {
     "data": {
      "text/plain": [
       "Timestamp('2005-07-24 00:00:00')"
      ]
     },
     "execution_count": 38,
     "metadata": {},
     "output_type": "execute_result"
    }
   ],
   "source": [
    "pd.Timestamp(_34)"
   ]
  },
  {
   "cell_type": "markdown",
   "metadata": {},
   "source": [
    "On tente d'appliquer une fonction qui retourne un `Timestamp` pour l'affecter à une colonne."
   ]
  },
  {
   "cell_type": "code",
   "execution_count": 48,
   "metadata": {
    "collapsed": false
   },
   "outputs": [],
   "source": [
    "flow['dt'] = flow.apply(lambda x: pd.Timestamp(x.date + 'T' + x.time), axis=1)"
   ]
  },
  {
   "cell_type": "code",
   "execution_count": 49,
   "metadata": {
    "collapsed": false
   },
   "outputs": [
    {
     "data": {
      "text/html": [
       "<div>\n",
       "<table border=\"1\" class=\"dataframe\">\n",
       "  <thead>\n",
       "    <tr style=\"text-align: right;\">\n",
       "      <th></th>\n",
       "      <th>flow_id</th>\n",
       "      <th>date</th>\n",
       "      <th>time</th>\n",
       "      <th>count</th>\n",
       "      <th>out</th>\n",
       "      <th>dt</th>\n",
       "    </tr>\n",
       "  </thead>\n",
       "  <tbody>\n",
       "    <tr>\n",
       "      <th>0</th>\n",
       "      <td>9</td>\n",
       "      <td>07/24/05</td>\n",
       "      <td>00:00:00</td>\n",
       "      <td>0</td>\n",
       "      <td>False</td>\n",
       "      <td>2005-07-24 00:00:00</td>\n",
       "    </tr>\n",
       "    <tr>\n",
       "      <th>1</th>\n",
       "      <td>7</td>\n",
       "      <td>07/24/05</td>\n",
       "      <td>00:30:00</td>\n",
       "      <td>1</td>\n",
       "      <td>True</td>\n",
       "      <td>2005-07-24 00:30:00</td>\n",
       "    </tr>\n",
       "    <tr>\n",
       "      <th>2</th>\n",
       "      <td>9</td>\n",
       "      <td>07/24/05</td>\n",
       "      <td>00:30:00</td>\n",
       "      <td>0</td>\n",
       "      <td>False</td>\n",
       "      <td>2005-07-24 00:30:00</td>\n",
       "    </tr>\n",
       "    <tr>\n",
       "      <th>3</th>\n",
       "      <td>7</td>\n",
       "      <td>07/24/05</td>\n",
       "      <td>01:00:00</td>\n",
       "      <td>0</td>\n",
       "      <td>True</td>\n",
       "      <td>2005-07-24 01:00:00</td>\n",
       "    </tr>\n",
       "    <tr>\n",
       "      <th>4</th>\n",
       "      <td>9</td>\n",
       "      <td>07/24/05</td>\n",
       "      <td>01:00:00</td>\n",
       "      <td>0</td>\n",
       "      <td>False</td>\n",
       "      <td>2005-07-24 01:00:00</td>\n",
       "    </tr>\n",
       "  </tbody>\n",
       "</table>\n",
       "</div>"
      ],
      "text/plain": [
       "   flow_id      date      time  count    out                  dt\n",
       "0        9  07/24/05  00:00:00      0  False 2005-07-24 00:00:00\n",
       "1        7  07/24/05  00:30:00      1   True 2005-07-24 00:30:00\n",
       "2        9  07/24/05  00:30:00      0  False 2005-07-24 00:30:00\n",
       "3        7  07/24/05  01:00:00      0   True 2005-07-24 01:00:00\n",
       "4        9  07/24/05  01:00:00      0  False 2005-07-24 01:00:00"
      ]
     },
     "execution_count": 49,
     "metadata": {},
     "output_type": "execute_result"
    }
   ],
   "source": [
    "flow.head()"
   ]
  },
  {
   "cell_type": "markdown",
   "metadata": {},
   "source": [
    "On veut potentiellement se débarrasser de colonnes `flow_id`, `date` et `time`. Et aussi passer la colonne de \"vraies\" dates en `Index`."
   ]
  },
  {
   "cell_type": "code",
   "execution_count": 51,
   "metadata": {
    "collapsed": false
   },
   "outputs": [
    {
     "data": {
      "text/html": [
       "<div>\n",
       "<table border=\"1\" class=\"dataframe\">\n",
       "  <thead>\n",
       "    <tr style=\"text-align: right;\">\n",
       "      <th></th>\n",
       "      <th>count</th>\n",
       "      <th>out</th>\n",
       "    </tr>\n",
       "    <tr>\n",
       "      <th>dt</th>\n",
       "      <th></th>\n",
       "      <th></th>\n",
       "    </tr>\n",
       "  </thead>\n",
       "  <tbody>\n",
       "    <tr>\n",
       "      <th>2005-07-24 00:00:00</th>\n",
       "      <td>0</td>\n",
       "      <td>False</td>\n",
       "    </tr>\n",
       "    <tr>\n",
       "      <th>2005-07-24 00:30:00</th>\n",
       "      <td>1</td>\n",
       "      <td>True</td>\n",
       "    </tr>\n",
       "    <tr>\n",
       "      <th>2005-07-24 00:30:00</th>\n",
       "      <td>0</td>\n",
       "      <td>False</td>\n",
       "    </tr>\n",
       "    <tr>\n",
       "      <th>2005-07-24 01:00:00</th>\n",
       "      <td>0</td>\n",
       "      <td>True</td>\n",
       "    </tr>\n",
       "    <tr>\n",
       "      <th>2005-07-24 01:00:00</th>\n",
       "      <td>0</td>\n",
       "      <td>False</td>\n",
       "    </tr>\n",
       "  </tbody>\n",
       "</table>\n",
       "</div>"
      ],
      "text/plain": [
       "                     count    out\n",
       "dt                               \n",
       "2005-07-24 00:00:00      0  False\n",
       "2005-07-24 00:30:00      1   True\n",
       "2005-07-24 00:30:00      0  False\n",
       "2005-07-24 01:00:00      0   True\n",
       "2005-07-24 01:00:00      0  False"
      ]
     },
     "execution_count": 51,
     "metadata": {},
     "output_type": "execute_result"
    }
   ],
   "source": [
    "flow.drop(['flow_id', 'date', 'time'], axis=1).set_index('dt').head()"
   ]
  },
  {
   "cell_type": "code",
   "execution_count": 55,
   "metadata": {
    "collapsed": true
   },
   "outputs": [],
   "source": [
    "dflow = flow.drop(['flow_id', 'date', 'time'], axis=1).set_index('dt')"
   ]
  },
  {
   "cell_type": "code",
   "execution_count": 81,
   "metadata": {
    "collapsed": false
   },
   "outputs": [
    {
     "data": {
      "text/html": [
       "<div>\n",
       "<table border=\"1\" class=\"dataframe\">\n",
       "  <thead>\n",
       "    <tr style=\"text-align: right;\">\n",
       "      <th></th>\n",
       "      <th>count</th>\n",
       "      <th>out</th>\n",
       "    </tr>\n",
       "    <tr>\n",
       "      <th>dt</th>\n",
       "      <th></th>\n",
       "      <th></th>\n",
       "    </tr>\n",
       "  </thead>\n",
       "  <tbody>\n",
       "    <tr>\n",
       "      <th>2005-07-24 00:00:00</th>\n",
       "      <td>0</td>\n",
       "      <td>False</td>\n",
       "    </tr>\n",
       "    <tr>\n",
       "      <th>2005-07-24 00:30:00</th>\n",
       "      <td>1</td>\n",
       "      <td>True</td>\n",
       "    </tr>\n",
       "    <tr>\n",
       "      <th>2005-07-24 00:30:00</th>\n",
       "      <td>0</td>\n",
       "      <td>False</td>\n",
       "    </tr>\n",
       "    <tr>\n",
       "      <th>2005-07-24 01:00:00</th>\n",
       "      <td>0</td>\n",
       "      <td>True</td>\n",
       "    </tr>\n",
       "    <tr>\n",
       "      <th>2005-07-24 01:00:00</th>\n",
       "      <td>0</td>\n",
       "      <td>False</td>\n",
       "    </tr>\n",
       "  </tbody>\n",
       "</table>\n",
       "</div>"
      ],
      "text/plain": [
       "                     count    out\n",
       "dt                               \n",
       "2005-07-24 00:00:00      0  False\n",
       "2005-07-24 00:30:00      1   True\n",
       "2005-07-24 00:30:00      0  False\n",
       "2005-07-24 01:00:00      0   True\n",
       "2005-07-24 01:00:00      0  False"
      ]
     },
     "execution_count": 81,
     "metadata": {},
     "output_type": "execute_result"
    }
   ],
   "source": [
    "dflow.head()"
   ]
  },
  {
   "cell_type": "code",
   "execution_count": 82,
   "metadata": {
    "collapsed": false
   },
   "outputs": [
    {
     "name": "stdout",
     "output_type": "stream",
     "text": [
      "<class 'pandas.core.frame.DataFrame'>\n",
      "DatetimeIndex: 10079 entries, 2005-07-24 00:00:00 to 2005-11-05 23:30:00\n",
      "Data columns (total 2 columns):\n",
      "count    10079 non-null int64\n",
      "out      10079 non-null bool\n",
      "dtypes: bool(1), int64(1)\n",
      "memory usage: 167.3 KB\n"
     ]
    }
   ],
   "source": [
    "dflow.info()"
   ]
  },
  {
   "cell_type": "markdown",
   "metadata": {},
   "source": [
    "### Analyse\n",
    "\n",
    "Un peu de stats :\n",
    "\n",
    "* combien de gens qui sortent / qui entrent\n",
    "* moyenne des gens qui sortent / entrent"
   ]
  },
  {
   "cell_type": "code",
   "execution_count": 62,
   "metadata": {
    "collapsed": false
   },
   "outputs": [
    {
     "data": {
      "text/plain": [
       "out\n",
       "False    3.888294\n",
       "True     3.738242\n",
       "Name: count, dtype: float64"
      ]
     },
     "execution_count": 62,
     "metadata": {},
     "output_type": "execute_result"
    }
   ],
   "source": [
    "dflow.groupby('out')['count'].mean()"
   ]
  },
  {
   "cell_type": "code",
   "execution_count": 63,
   "metadata": {
    "collapsed": false
   },
   "outputs": [
    {
     "data": {
      "text/plain": [
       "out\n",
       "False    5040\n",
       "True     5039\n",
       "Name: count, dtype: int64"
      ]
     },
     "execution_count": 63,
     "metadata": {},
     "output_type": "execute_result"
    }
   ],
   "source": [
    "dflow.groupby('out')['count'].count()"
   ]
  },
  {
   "cell_type": "markdown",
   "metadata": {},
   "source": [
    "Et si on veut appliquer plusieurs fonctions d'aggrégation sur nos groupes : `agg`."
   ]
  },
  {
   "cell_type": "code",
   "execution_count": 61,
   "metadata": {
    "collapsed": false
   },
   "outputs": [
    {
     "data": {
      "text/html": [
       "<div>\n",
       "<table border=\"1\" class=\"dataframe\">\n",
       "  <thead>\n",
       "    <tr style=\"text-align: right;\">\n",
       "      <th></th>\n",
       "      <th>mean</th>\n",
       "      <th>sum</th>\n",
       "      <th>std</th>\n",
       "    </tr>\n",
       "    <tr>\n",
       "      <th>out</th>\n",
       "      <th></th>\n",
       "      <th></th>\n",
       "      <th></th>\n",
       "    </tr>\n",
       "  </thead>\n",
       "  <tbody>\n",
       "    <tr>\n",
       "      <th>False</th>\n",
       "      <td>3.888294</td>\n",
       "      <td>19597</td>\n",
       "      <td>6.834565</td>\n",
       "    </tr>\n",
       "    <tr>\n",
       "      <th>True</th>\n",
       "      <td>3.738242</td>\n",
       "      <td>18837</td>\n",
       "      <td>6.010738</td>\n",
       "    </tr>\n",
       "  </tbody>\n",
       "</table>\n",
       "</div>"
      ],
      "text/plain": [
       "           mean    sum       std\n",
       "out                             \n",
       "False  3.888294  19597  6.834565\n",
       "True   3.738242  18837  6.010738"
      ]
     },
     "execution_count": 61,
     "metadata": {},
     "output_type": "execute_result"
    }
   ],
   "source": [
    "dflow.groupby('out')['count'].agg(['mean', 'sum', 'std'])"
   ]
  },
  {
   "cell_type": "markdown",
   "metadata": {},
   "source": [
    "Et si on voulait regarder la somme où la moyenne par jour ?\n",
    "\n",
    "...\n",
    "\n",
    "ou toutes les 4 heures ?"
   ]
  },
  {
   "cell_type": "code",
   "execution_count": 74,
   "metadata": {
    "collapsed": false
   },
   "outputs": [],
   "source": [
    "day_out = dflow.query('out').resample('1D').mean()['count']\n",
    "day_in = dflow.query('not out').resample('1D').mean()['count']"
   ]
  },
  {
   "cell_type": "code",
   "execution_count": 75,
   "metadata": {
    "collapsed": false
   },
   "outputs": [
    {
     "data": {
      "text/plain": [
       "dt\n",
       "2005-07-24    0.333333\n",
       "2005-07-25    3.666667\n",
       "2005-07-26    4.520833\n",
       "2005-07-27    5.145833\n",
       "2005-07-28    5.645833\n",
       "Freq: D, Name: count, dtype: float64"
      ]
     },
     "execution_count": 75,
     "metadata": {},
     "output_type": "execute_result"
    }
   ],
   "source": [
    "day_in.head()"
   ]
  },
  {
   "cell_type": "code",
   "execution_count": 77,
   "metadata": {
    "collapsed": false
   },
   "outputs": [
    {
     "data": {
      "text/html": [
       "<div>\n",
       "<table border=\"1\" class=\"dataframe\">\n",
       "  <thead>\n",
       "    <tr style=\"text-align: right;\">\n",
       "      <th></th>\n",
       "      <th>in</th>\n",
       "      <th>out</th>\n",
       "    </tr>\n",
       "    <tr>\n",
       "      <th>dt</th>\n",
       "      <th></th>\n",
       "      <th></th>\n",
       "    </tr>\n",
       "  </thead>\n",
       "  <tbody>\n",
       "    <tr>\n",
       "      <th>2005-07-24</th>\n",
       "      <td>0.333333</td>\n",
       "      <td>0.531915</td>\n",
       "    </tr>\n",
       "    <tr>\n",
       "      <th>2005-07-25</th>\n",
       "      <td>3.666667</td>\n",
       "      <td>3.375000</td>\n",
       "    </tr>\n",
       "    <tr>\n",
       "      <th>2005-07-26</th>\n",
       "      <td>4.520833</td>\n",
       "      <td>4.583333</td>\n",
       "    </tr>\n",
       "    <tr>\n",
       "      <th>2005-07-27</th>\n",
       "      <td>5.145833</td>\n",
       "      <td>4.791667</td>\n",
       "    </tr>\n",
       "    <tr>\n",
       "      <th>2005-07-28</th>\n",
       "      <td>5.645833</td>\n",
       "      <td>5.083333</td>\n",
       "    </tr>\n",
       "  </tbody>\n",
       "</table>\n",
       "</div>"
      ],
      "text/plain": [
       "                  in       out\n",
       "dt                            \n",
       "2005-07-24  0.333333  0.531915\n",
       "2005-07-25  3.666667  3.375000\n",
       "2005-07-26  4.520833  4.583333\n",
       "2005-07-27  5.145833  4.791667\n",
       "2005-07-28  5.645833  5.083333"
      ]
     },
     "execution_count": 77,
     "metadata": {},
     "output_type": "execute_result"
    }
   ],
   "source": [
    "day = pd.DataFrame({\"in\": day_in,\n",
    "                   \"out\": day_out})\n",
    "day.head()"
   ]
  },
  {
   "cell_type": "markdown",
   "metadata": {},
   "source": [
    "Et toutes les 4 heures du coup ?"
   ]
  },
  {
   "cell_type": "code",
   "execution_count": 83,
   "metadata": {
    "collapsed": false
   },
   "outputs": [
    {
     "data": {
      "text/html": [
       "<div>\n",
       "<table border=\"1\" class=\"dataframe\">\n",
       "  <thead>\n",
       "    <tr style=\"text-align: right;\">\n",
       "      <th></th>\n",
       "      <th>count</th>\n",
       "      <th>out</th>\n",
       "    </tr>\n",
       "    <tr>\n",
       "      <th>dt</th>\n",
       "      <th></th>\n",
       "      <th></th>\n",
       "    </tr>\n",
       "  </thead>\n",
       "  <tbody>\n",
       "    <tr>\n",
       "      <th>2005-07-24 00:00:00</th>\n",
       "      <td>0.428571</td>\n",
       "      <td>True</td>\n",
       "    </tr>\n",
       "    <tr>\n",
       "      <th>2005-07-24 04:00:00</th>\n",
       "      <td>0.250000</td>\n",
       "      <td>True</td>\n",
       "    </tr>\n",
       "    <tr>\n",
       "      <th>2005-07-24 08:00:00</th>\n",
       "      <td>0.250000</td>\n",
       "      <td>True</td>\n",
       "    </tr>\n",
       "    <tr>\n",
       "      <th>2005-07-24 12:00:00</th>\n",
       "      <td>0.000000</td>\n",
       "      <td>True</td>\n",
       "    </tr>\n",
       "    <tr>\n",
       "      <th>2005-07-24 16:00:00</th>\n",
       "      <td>1.375000</td>\n",
       "      <td>True</td>\n",
       "    </tr>\n",
       "    <tr>\n",
       "      <th>2005-07-24 20:00:00</th>\n",
       "      <td>0.875000</td>\n",
       "      <td>True</td>\n",
       "    </tr>\n",
       "    <tr>\n",
       "      <th>2005-07-25 00:00:00</th>\n",
       "      <td>0.125000</td>\n",
       "      <td>True</td>\n",
       "    </tr>\n",
       "    <tr>\n",
       "      <th>2005-07-25 04:00:00</th>\n",
       "      <td>0.750000</td>\n",
       "      <td>True</td>\n",
       "    </tr>\n",
       "    <tr>\n",
       "      <th>2005-07-25 08:00:00</th>\n",
       "      <td>3.625000</td>\n",
       "      <td>True</td>\n",
       "    </tr>\n",
       "    <tr>\n",
       "      <th>2005-07-25 12:00:00</th>\n",
       "      <td>7.750000</td>\n",
       "      <td>True</td>\n",
       "    </tr>\n",
       "  </tbody>\n",
       "</table>\n",
       "</div>"
      ],
      "text/plain": [
       "                        count   out\n",
       "dt                                 \n",
       "2005-07-24 00:00:00  0.428571  True\n",
       "2005-07-24 04:00:00  0.250000  True\n",
       "2005-07-24 08:00:00  0.250000  True\n",
       "2005-07-24 12:00:00  0.000000  True\n",
       "2005-07-24 16:00:00  1.375000  True\n",
       "2005-07-24 20:00:00  0.875000  True\n",
       "2005-07-25 00:00:00  0.125000  True\n",
       "2005-07-25 04:00:00  0.750000  True\n",
       "2005-07-25 08:00:00  3.625000  True\n",
       "2005-07-25 12:00:00  7.750000  True"
      ]
     },
     "execution_count": 83,
     "metadata": {},
     "output_type": "execute_result"
    }
   ],
   "source": [
    "dflow.query('out').resample('4H').mean().head(10)"
   ]
  },
  {
   "cell_type": "markdown",
   "metadata": {},
   "source": [
    "Et si on veut, on peut sommer, où calculer l'écart-type pour ces tranches de temps : 1 journée, 4 heures, ou même pourquoi pas toutes les semaines du mercredi au mardi."
   ]
  },
  {
   "cell_type": "code",
   "execution_count": 91,
   "metadata": {
    "collapsed": false
   },
   "outputs": [
    {
     "data": {
      "text/plain": [
       "dt\n",
       "2005-07-27     656\n",
       "2005-08-03    1162\n",
       "2005-08-10    1233\n",
       "2005-08-17    1117\n",
       "2005-08-24    1352\n",
       "2005-08-31    1245\n",
       "2005-09-07    1007\n",
       "2005-09-14    1153\n",
       "2005-09-21    1235\n",
       "2005-09-28    1321\n",
       "2005-10-05    1592\n",
       "2005-10-12    1315\n",
       "2005-10-19    1353\n",
       "2005-10-26    1544\n",
       "2005-11-02    1684\n",
       "2005-11-09     628\n",
       "Freq: W-WED, Name: count, dtype: int64"
      ]
     },
     "execution_count": 91,
     "metadata": {},
     "output_type": "execute_result"
    }
   ],
   "source": [
    "dflow.query(\"not out\").resample('W-WED').sum()['count']"
   ]
  },
  {
   "cell_type": "markdown",
   "metadata": {},
   "source": [
    "### Quelques courbes"
   ]
  },
  {
   "cell_type": "code",
   "execution_count": 94,
   "metadata": {
    "collapsed": false
   },
   "outputs": [
    {
     "data": {
      "text/plain": [
       "<matplotlib.axes._subplots.AxesSubplot at 0x7f967d20dba8>"
      ]
     },
     "execution_count": 94,
     "metadata": {},
     "output_type": "execute_result"
    },
    {
     "data": {
      "image/png": "[encoded data removed]",
      "text/plain": [
       "<matplotlib.figure.Figure at 0x7f967d217cf8>"
      ]
     },
     "metadata": {},
     "output_type": "display_data"
    }
   ],
   "source": [
    "dflow.query('out')['count'].plot()"
   ]
  },
  {
   "cell_type": "markdown",
   "metadata": {},
   "source": [
    "On peut vouloir **lisser** les courbes à forte variabilité : `rolling`. On calcule la moyenne glissante sur les K dernières valeurs."
   ]
  },
  {
   "cell_type": "code",
   "execution_count": 101,
   "metadata": {
    "collapsed": false
   },
   "outputs": [
    {
     "data": {
      "text/plain": [
       "<matplotlib.axes._subplots.AxesSubplot at 0x7f967c25e390>"
      ]
     },
     "execution_count": 101,
     "metadata": {},
     "output_type": "execute_result"
    },
    {
     "data": {
      "image/png": "[encoded data removed]",
      "text/plain": [
       "<matplotlib.figure.Figure at 0x7f967c7d11d0>"
      ]
     },
     "metadata": {},
     "output_type": "display_data"
    }
   ],
   "source": [
    "dflow.query('not out').rolling(8).sum().plot()"
   ]
  },
  {
   "cell_type": "code",
   "execution_count": 92,
   "metadata": {
    "collapsed": false
   },
   "outputs": [
    {
     "data": {
      "text/html": [
       "<div>\n",
       "<table border=\"1\" class=\"dataframe\">\n",
       "  <thead>\n",
       "    <tr style=\"text-align: right;\">\n",
       "      <th></th>\n",
       "      <th>in</th>\n",
       "      <th>out</th>\n",
       "    </tr>\n",
       "    <tr>\n",
       "      <th>dt</th>\n",
       "      <th></th>\n",
       "      <th></th>\n",
       "    </tr>\n",
       "  </thead>\n",
       "  <tbody>\n",
       "    <tr>\n",
       "      <th>2005-07-24</th>\n",
       "      <td>0.333333</td>\n",
       "      <td>0.531915</td>\n",
       "    </tr>\n",
       "    <tr>\n",
       "      <th>2005-07-25</th>\n",
       "      <td>3.666667</td>\n",
       "      <td>3.375000</td>\n",
       "    </tr>\n",
       "    <tr>\n",
       "      <th>2005-07-26</th>\n",
       "      <td>4.520833</td>\n",
       "      <td>4.583333</td>\n",
       "    </tr>\n",
       "    <tr>\n",
       "      <th>2005-07-27</th>\n",
       "      <td>5.145833</td>\n",
       "      <td>4.791667</td>\n",
       "    </tr>\n",
       "    <tr>\n",
       "      <th>2005-07-28</th>\n",
       "      <td>5.645833</td>\n",
       "      <td>5.083333</td>\n",
       "    </tr>\n",
       "  </tbody>\n",
       "</table>\n",
       "</div>"
      ],
      "text/plain": [
       "                  in       out\n",
       "dt                            \n",
       "2005-07-24  0.333333  0.531915\n",
       "2005-07-25  3.666667  3.375000\n",
       "2005-07-26  4.520833  4.583333\n",
       "2005-07-27  5.145833  4.791667\n",
       "2005-07-28  5.645833  5.083333"
      ]
     },
     "execution_count": 92,
     "metadata": {},
     "output_type": "execute_result"
    }
   ],
   "source": [
    "day.head()"
   ]
  },
  {
   "cell_type": "code",
   "execution_count": 93,
   "metadata": {
    "collapsed": false
   },
   "outputs": [
    {
     "data": {
      "text/plain": [
       "<matplotlib.axes._subplots.AxesSubplot at 0x7f967d237da0>"
      ]
     },
     "execution_count": 93,
     "metadata": {},
     "output_type": "execute_result"
    },
    {
     "data": {
      "image/png": "[encoded data removed]",
      "text/plain": [
       "<matplotlib.figure.Figure at 0x7f967d237240>"
      ]
     },
     "metadata": {},
     "output_type": "display_data"
    }
   ],
   "source": [
    "day.plot()"
   ]
  },
  {
   "cell_type": "markdown",
   "metadata": {},
   "source": [
    "\n",
    "## Bordeaux Open Data"
   ]
  },
  {
   "cell_type": "markdown",
   "metadata": {},
   "source": [
    "**Idées** :\n",
    "\n",
    "* tracer les points sur une carte (on sort un peu de pandas)\n",
    "* y'a des points & des polygones : faire du geopandas ?"
   ]
  },
  {
   "cell_type": "code",
   "execution_count": 20,
   "metadata": {
    "collapsed": true
   },
   "outputs": [],
   "source": [
    "# aire de jeux\n",
    "url_playground = \"https://bdxconfigogdi.blob.core.windows.net/converteddata/databordeaux/airejeux.csv\"\n",
    "local_playground = \"data/airejeux.csv\""
   ]
  },
  {
   "cell_type": "code",
   "execution_count": 22,
   "metadata": {
    "collapsed": false
   },
   "outputs": [],
   "source": [
    "playground = pd.read_csv(url_playground, sep=\";\")"
   ]
  },
  {
   "cell_type": "code",
   "execution_count": 23,
   "metadata": {
    "collapsed": true
   },
   "outputs": [],
   "source": [
    "# parcs, squares, jardins\n",
    "url_park = \"https://bdxconfigogdi.blob.core.windows.net/converteddata/databordeaux/parcjardin.csv\"\n",
    "local_park = \"data/parcjardin.csv\""
   ]
  },
  {
   "cell_type": "code",
   "execution_count": 24,
   "metadata": {
    "collapsed": true
   },
   "outputs": [],
   "source": [
    "park = pd.read_csv(url_park, sep=\";\")"
   ]
  },
  {
   "cell_type": "code",
   "execution_count": 25,
   "metadata": {
    "collapsed": false
   },
   "outputs": [
    {
     "data": {
      "text/html": [
       "<div>\n",
       "<table border=\"1\" class=\"dataframe\">\n",
       "  <thead>\n",
       "    <tr style=\"text-align: right;\">\n",
       "      <th></th>\n",
       "      <th>CLE</th>\n",
       "      <th>NATURE</th>\n",
       "      <th>NOM</th>\n",
       "      <th>AGE_MIN</th>\n",
       "      <th>AGE_MAX</th>\n",
       "      <th>NOMBRE_JEUX</th>\n",
       "      <th>X_LONG</th>\n",
       "      <th>Y_LAT</th>\n",
       "      <th>GEOMETRIE</th>\n",
       "      <th>NUM_QUARTIER</th>\n",
       "    </tr>\n",
       "  </thead>\n",
       "  <tbody>\n",
       "    <tr>\n",
       "      <th>0</th>\n",
       "      <td>976</td>\n",
       "      <td>Aire de jeux</td>\n",
       "      <td>Berges du Lac_Plage</td>\n",
       "      <td>1,00</td>\n",
       "      <td>12,00</td>\n",
       "      <td>2</td>\n",
       "      <td>-0,578932285046847</td>\n",
       "      <td>44,8779825499956</td>\n",
       "      <td>POLYGON ((-0.578842032917968 44.8779719925657,...</td>\n",
       "      <td>NaN</td>\n",
       "    </tr>\n",
       "    <tr>\n",
       "      <th>1</th>\n",
       "      <td>978</td>\n",
       "      <td>Aire de jeux</td>\n",
       "      <td>Place des Droits de l'Enfant</td>\n",
       "      <td>1,00</td>\n",
       "      <td>12,00</td>\n",
       "      <td>11</td>\n",
       "      <td>-0,564294382315667</td>\n",
       "      <td>44,845843033572</td>\n",
       "      <td>POLYGON ((-0.564636852525033 44.8461322949604,...</td>\n",
       "      <td>7.0</td>\n",
       "    </tr>\n",
       "    <tr>\n",
       "      <th>2</th>\n",
       "      <td>984</td>\n",
       "      <td>Aire de jeux</td>\n",
       "      <td>Place Valmy</td>\n",
       "      <td>3,00</td>\n",
       "      <td>12,00</td>\n",
       "      <td>3</td>\n",
       "      <td>-0,594928469747018</td>\n",
       "      <td>44,8228503127685</td>\n",
       "      <td>POLYGON ((-0.594941529427182 44.8227543692787,...</td>\n",
       "      <td>4.0</td>\n",
       "    </tr>\n",
       "    <tr>\n",
       "      <th>3</th>\n",
       "      <td>45881</td>\n",
       "      <td>Aire de jeux</td>\n",
       "      <td>Place Francis de Pressensé</td>\n",
       "      <td>2,00</td>\n",
       "      <td>6,00</td>\n",
       "      <td>4</td>\n",
       "      <td>-0,575308846560817</td>\n",
       "      <td>44,8323190884165</td>\n",
       "      <td>POLYGON ((-0.575379333336975 44.8322868400781,...</td>\n",
       "      <td>6.0</td>\n",
       "    </tr>\n",
       "    <tr>\n",
       "      <th>4</th>\n",
       "      <td>40898</td>\n",
       "      <td>Aire de jeux</td>\n",
       "      <td>Parc de la Cité du Grand Parc_Maryse Bastié</td>\n",
       "      <td>1,00</td>\n",
       "      <td>8,00</td>\n",
       "      <td>4</td>\n",
       "      <td>-0,578084705837757</td>\n",
       "      <td>44,8613135443103</td>\n",
       "      <td>POLYGON ((-0.578157510681416 44.8613037216689,...</td>\n",
       "      <td>2.0</td>\n",
       "    </tr>\n",
       "  </tbody>\n",
       "</table>\n",
       "</div>"
      ],
      "text/plain": [
       "     CLE        NATURE                                          NOM AGE_MIN  \\\n",
       "0    976  Aire de jeux                          Berges du Lac_Plage    1,00   \n",
       "1    978  Aire de jeux                 Place des Droits de l'Enfant    1,00   \n",
       "2    984  Aire de jeux                                  Place Valmy    3,00   \n",
       "3  45881  Aire de jeux                   Place Francis de Pressensé    2,00   \n",
       "4  40898  Aire de jeux  Parc de la Cité du Grand Parc_Maryse Bastié    1,00   \n",
       "\n",
       "  AGE_MAX  NOMBRE_JEUX              X_LONG             Y_LAT  \\\n",
       "0   12,00            2  -0,578932285046847  44,8779825499956   \n",
       "1   12,00           11  -0,564294382315667   44,845843033572   \n",
       "2   12,00            3  -0,594928469747018  44,8228503127685   \n",
       "3    6,00            4  -0,575308846560817  44,8323190884165   \n",
       "4    8,00            4  -0,578084705837757  44,8613135443103   \n",
       "\n",
       "                                           GEOMETRIE  NUM_QUARTIER  \n",
       "0  POLYGON ((-0.578842032917968 44.8779719925657,...           NaN  \n",
       "1  POLYGON ((-0.564636852525033 44.8461322949604,...           7.0  \n",
       "2  POLYGON ((-0.594941529427182 44.8227543692787,...           4.0  \n",
       "3  POLYGON ((-0.575379333336975 44.8322868400781,...           6.0  \n",
       "4  POLYGON ((-0.578157510681416 44.8613037216689,...           2.0  "
      ]
     },
     "execution_count": 25,
     "metadata": {},
     "output_type": "execute_result"
    }
   ],
   "source": [
    "playground.head()"
   ]
  },
  {
   "cell_type": "code",
   "execution_count": 26,
   "metadata": {
    "collapsed": false
   },
   "outputs": [
    {
     "data": {
      "text/html": [
       "<div>\n",
       "<table border=\"1\" class=\"dataframe\">\n",
       "  <thead>\n",
       "    <tr style=\"text-align: right;\">\n",
       "      <th></th>\n",
       "      <th>CLE</th>\n",
       "      <th>NOM_ESPACE_ENTRETIEN</th>\n",
       "      <th>LABEL</th>\n",
       "      <th>TYPE_DE_GESTION_DIFFERENCIEE</th>\n",
       "      <th>TYPOLOGIE_PATRIMOINE</th>\n",
       "      <th>UTILISATION</th>\n",
       "      <th>X_LONG</th>\n",
       "      <th>Y_LAT</th>\n",
       "      <th>GEOMETRIE</th>\n",
       "    </tr>\n",
       "  </thead>\n",
       "  <tbody>\n",
       "    <tr>\n",
       "      <th>0</th>\n",
       "      <td>1336</td>\n",
       "      <td>Parc de la Béchade</td>\n",
       "      <td>Ecojardin - Refuge LPO</td>\n",
       "      <td>Classe 2 : Priorité aux usages récréatifs</td>\n",
       "      <td>Parc, jardin et square</td>\n",
       "      <td>NaN</td>\n",
       "      <td>-0,59848036133239</td>\n",
       "      <td>44,8264628940148</td>\n",
       "      <td>POLYGON ((-0.598700443555036 44.8259224568624,...</td>\n",
       "    </tr>\n",
       "    <tr>\n",
       "      <th>1</th>\n",
       "      <td>1115</td>\n",
       "      <td>Parc aux Angéliques séquence 1</td>\n",
       "      <td>NaN</td>\n",
       "      <td>Classe 2 : Priorité aux usages récréatifs</td>\n",
       "      <td>Parc, jardin et square</td>\n",
       "      <td>NaN</td>\n",
       "      <td>-0,56363500914887</td>\n",
       "      <td>44,8490860371795</td>\n",
       "      <td>POLYGON ((-0.562434498293604 44.8492913637927,...</td>\n",
       "    </tr>\n",
       "    <tr>\n",
       "      <th>2</th>\n",
       "      <td>1119</td>\n",
       "      <td>Jardin de la Mairie</td>\n",
       "      <td>NaN</td>\n",
       "      <td>Classe 2 : Priorité aux usages récréatifs</td>\n",
       "      <td>Parc, jardin et square</td>\n",
       "      <td>NaN</td>\n",
       "      <td>-0,5804615766991</td>\n",
       "      <td>44,8378156427562</td>\n",
       "      <td>POLYGON ((-0.581297929251778 44.8379848693621,...</td>\n",
       "    </tr>\n",
       "    <tr>\n",
       "      <th>3</th>\n",
       "      <td>1117</td>\n",
       "      <td>Parc Chantecrit</td>\n",
       "      <td>NaN</td>\n",
       "      <td>Classe 2 : Priorité aux usages récréatifs</td>\n",
       "      <td>Parc, jardin et square</td>\n",
       "      <td>Promenade, jeux d'enfants, aire multisports</td>\n",
       "      <td>-0,56352782729974</td>\n",
       "      <td>44,8634384524561</td>\n",
       "      <td>POLYGON ((-0.564028129633717 44.8629767229793,...</td>\n",
       "    </tr>\n",
       "    <tr>\n",
       "      <th>4</th>\n",
       "      <td>1161</td>\n",
       "      <td>Parc des Berges de Garonne</td>\n",
       "      <td>Ecojardin - Refuge LPO</td>\n",
       "      <td>Classe 3 : Priorité à la biodiversité</td>\n",
       "      <td>Parc, jardin et square</td>\n",
       "      <td>Promenade</td>\n",
       "      <td>-0,53980293808487</td>\n",
       "      <td>44,8856333789349</td>\n",
       "      <td>POLYGON ((-0.54058132877659 44.8893531139258, ...</td>\n",
       "    </tr>\n",
       "  </tbody>\n",
       "</table>\n",
       "</div>"
      ],
      "text/plain": [
       "    CLE            NOM_ESPACE_ENTRETIEN                   LABEL  \\\n",
       "0  1336              Parc de la Béchade  Ecojardin - Refuge LPO   \n",
       "1  1115  Parc aux Angéliques séquence 1                     NaN   \n",
       "2  1119             Jardin de la Mairie                     NaN   \n",
       "3  1117                 Parc Chantecrit                     NaN   \n",
       "4  1161      Parc des Berges de Garonne  Ecojardin - Refuge LPO   \n",
       "\n",
       "                TYPE_DE_GESTION_DIFFERENCIEE    TYPOLOGIE_PATRIMOINE  \\\n",
       "0  Classe 2 : Priorité aux usages récréatifs  Parc, jardin et square   \n",
       "1  Classe 2 : Priorité aux usages récréatifs  Parc, jardin et square   \n",
       "2  Classe 2 : Priorité aux usages récréatifs  Parc, jardin et square   \n",
       "3  Classe 2 : Priorité aux usages récréatifs  Parc, jardin et square   \n",
       "4      Classe 3 : Priorité à la biodiversité  Parc, jardin et square   \n",
       "\n",
       "                                   UTILISATION             X_LONG  \\\n",
       "0                                          NaN  -0,59848036133239   \n",
       "1                                          NaN  -0,56363500914887   \n",
       "2                                          NaN   -0,5804615766991   \n",
       "3  Promenade, jeux d'enfants, aire multisports  -0,56352782729974   \n",
       "4                                    Promenade  -0,53980293808487   \n",
       "\n",
       "              Y_LAT                                          GEOMETRIE  \n",
       "0  44,8264628940148  POLYGON ((-0.598700443555036 44.8259224568624,...  \n",
       "1  44,8490860371795  POLYGON ((-0.562434498293604 44.8492913637927,...  \n",
       "2  44,8378156427562  POLYGON ((-0.581297929251778 44.8379848693621,...  \n",
       "3  44,8634384524561  POLYGON ((-0.564028129633717 44.8629767229793,...  \n",
       "4  44,8856333789349  POLYGON ((-0.54058132877659 44.8893531139258, ...  "
      ]
     },
     "execution_count": 26,
     "metadata": {},
     "output_type": "execute_result"
    }
   ],
   "source": [
    "park.head()"
   ]
  },
  {
   "cell_type": "markdown",
   "metadata": {},
   "source": [
    "**JSON ??**"
   ]
  },
  {
   "cell_type": "code",
   "execution_count": 30,
   "metadata": {
    "collapsed": false
   },
   "outputs": [],
   "source": [
    "json_playground = 'http://odata.bordeaux.fr/v1/databordeaux/airejeux/?format=json'"
   ]
  },
  {
   "cell_type": "code",
   "execution_count": null,
   "metadata": {
    "collapsed": false,
    "scrolled": false
   },
   "outputs": [],
   "source": [
    "requests.get(json_playground).json()"
   ]
  },
  {
   "cell_type": "code",
   "execution_count": null,
   "metadata": {
    "collapsed": false
   },
   "outputs": [],
   "source": [
    "pd.read_json(json_playground, orient='index')"
   ]
  },
  {
   "cell_type": "code",
   "execution_count": null,
   "metadata": {
    "collapsed": true
   },
   "outputs": [],
   "source": []
  }
 ],
 "metadata": {
  "kernelspec": {
   "display_name": "Python 3",
   "language": "python",
   "name": "python3"
  },
  "language_info": {
   "codemirror_mode": {
    "name": "ipython",
    "version": 3
   },
   "file_extension": ".py",
   "mimetype": "text/x-python",
   "name": "python",
   "nbconvert_exporter": "python",
   "pygments_lexer": "ipython3",
   "version": "3.5.2"
  }
 },
 "nbformat": 4,
 "nbformat_minor": 0
}
